{
 "cells": [
  {
   "cell_type": "markdown",
   "id": "22cb7d2e-0be5-46e1-ac56-e0ca42aaf0b3",
   "metadata": {},
   "source": [
    "# CVATtoYOLODataConverter #\n",
    "his file contains an implementation of a counter that is used to convert labels from the CVAT format to the format supported by the YOLO neural network.\n",
    "This conversion is necessary in order to use the tool available at:\n",
    "https://app.cvat.ai\n",
    "The most accurate and useful output (especially for later training of a U-Net network) is provided in the CVAT format.\n"
   ]
  },
  {
   "cell_type": "code",
   "id": "0e67aac8-983d-44a2-aeb8-6838c1bd7c81",
   "metadata": {
    "ExecuteTime": {
     "end_time": "2025-05-18T13:00:24.326260Z",
     "start_time": "2025-05-18T13:00:24.317609Z"
    }
   },
   "source": [
    "import os\n",
    "import xml.etree.ElementTree as ET"
   ],
   "outputs": [],
   "execution_count": 1
  },
  {
   "cell_type": "code",
   "id": "44f4827b-73ef-4458-9b1a-daf67979b2f4",
   "metadata": {
    "ExecuteTime": {
     "end_time": "2025-05-18T13:00:25.658578Z",
     "start_time": "2025-05-18T13:00:25.648831Z"
    }
   },
   "source": [
    "label_map = {\n",
    "    \"gland\": 0\n",
    "}\n",
    "\n",
    "def parse_polygon_points(points_str):\n",
    "\n",
    "    points = []\n",
    "    for point in points_str.split(';'):\n",
    "        if point.strip():\n",
    "            x_str, y_str = point.split(',')\n",
    "            points.append((float(x_str), float(y_str)))\n",
    "    return points\n",
    "\n",
    "def polygon_to_bbox(points):\n",
    "   \n",
    "    xs = [p[0] for p in points]\n",
    "    ys = [p[1] for p in points]\n",
    "    return min(xs), min(ys), max(xs), max(ys)\n",
    "\n",
    "def convert_annotation(folderPath):\n",
    "\n",
    "    xml_file = os.path.join(folderPath, 'annotations.xml')      \n",
    "    labels_dir = os.path.join(folderPath, 'labels')              \n",
    "\n",
    "    if not os.path.exists(labels_dir):\n",
    "        os.makedirs(labels_dir)\n",
    "    \n",
    "    tree = ET.parse(xml_file)\n",
    "    root = tree.getroot()\n",
    "    \n",
    "    for image in root.findall('image'):\n",
    "        image_name = image.attrib['name']\n",
    "        image_width = float(image.attrib['width'])\n",
    "        image_height = float(image.attrib['height'])\n",
    "\n",
    "        txt_file_name = os.path.splitext(image_name)[0] + \".txt\"\n",
    "        txt_file_path = os.path.join(labels_dir, txt_file_name)\n",
    "        \n",
    "        yolo_lines = []\n",
    "        \n",
    "        for poly in image.findall('polygon'):\n",
    "            label = poly.attrib.get('label')\n",
    "            if label not in label_map:\n",
    "                print(f\"Warning: label '{label}' is not mapped. Skipping this object.\")\n",
    "                continue\n",
    "\n",
    "            class_id = label_map[label]\n",
    "            points_str = poly.attrib.get('points')\n",
    "            \n",
    "            points = parse_polygon_points(points_str)\n",
    "            xtl, ytl, xbr, ybr = polygon_to_bbox(points)\n",
    "            \n",
    "            x_center = (xtl + xbr) / 2.0\n",
    "            y_center = (ytl + ybr) / 2.0\n",
    "            box_width = xbr - xtl\n",
    "            box_height = ybr - ytl\n",
    "\n",
    "            x_center_norm = x_center / image_width\n",
    "            y_center_norm = y_center / image_height\n",
    "            width_norm = box_width / image_width\n",
    "            height_norm = box_height / image_height\n",
    "            \n",
    "            yolo_line = f\"{class_id} {x_center_norm:.6f} {y_center_norm:.6f} {width_norm:.6f} {height_norm:.6f}\"\n",
    "            yolo_lines.append(yolo_line)\n",
    "        \n",
    "        for box in image.findall('box'):\n",
    "            label = box.attrib.get('label')\n",
    "            if label not in label_map:\n",
    "                print(f\"Warning: label '{label}' is not mapped. Skipping this object.\")   \n",
    "                continue\n",
    "\n",
    "            class_id = label_map[label]\n",
    "            xtl = float(box.attrib['xtl'])\n",
    "            ytl = float(box.attrib['ytl'])\n",
    "            xbr = float(box.attrib['xbr'])\n",
    "            ybr = float(box.attrib['ybr'])\n",
    "            \n",
    "            x_center = (xtl + xbr) / 2.0\n",
    "            y_center = (ytl + ybr) / 2.0\n",
    "            box_width = xbr - xtl\n",
    "            box_height = ybr - ytl\n",
    "\n",
    "            x_center_norm = x_center / image_width\n",
    "            y_center_norm = y_center / image_height\n",
    "            width_norm = box_width / image_width\n",
    "            height_norm = box_height / image_height\n",
    "\n",
    "            yolo_line = f\"{class_id} {x_center_norm:.6f} {y_center_norm:.6f} {width_norm:.6f} {height_norm:.6f}\"\n",
    "            yolo_lines.append(yolo_line)\n",
    "\n",
    "        with open(txt_file_path, \"w\") as f:\n",
    "            f.write(\"\\n\".join(yolo_lines))\n",
    "        \n",
    "        print(f\"Processed: {image_name} -> {txt_file_name}\")\n",
    "\n"
   ],
   "outputs": [],
   "execution_count": 2
  },
  {
   "cell_type": "code",
   "id": "dc9025df-d520-465d-9682-29dcc638a4a6",
   "metadata": {
    "ExecuteTime": {
     "end_time": "2025-05-18T13:00:30.636598Z",
     "start_time": "2025-05-18T13:00:30.611770Z"
    }
   },
   "source": [
    "file_path = \"../preprocessedData/LearnSet/anotations\" \n",
    "convert_annotation(file_path)"
   ],
   "outputs": [
    {
     "name": "stdout",
     "output_type": "stream",
     "text": [
      "Processed: tile_12544_53760.tif -> tile_12544_53760.txt\n",
      "Processed: tile_16128_50176.tif -> tile_16128_50176.txt\n",
      "Processed: tile_16128_53760.tif -> tile_16128_53760.txt\n",
      "Processed: tile_17920_53760.tif -> tile_17920_53760.txt\n",
      "Processed: tile_19712_57344.tif -> tile_19712_57344.txt\n",
      "Processed: tile_23296_16128.tif -> tile_23296_16128.txt\n",
      "Processed: tile_23296_51968.tif -> tile_23296_51968.txt\n",
      "Processed: tile_25088_14336.tif -> tile_25088_14336.txt\n",
      "Processed: tile_25088_25088.tif -> tile_25088_25088.txt\n",
      "Processed: tile_26880_21504.tif -> tile_26880_21504.txt\n",
      "Processed: tile_26880_23296.tif -> tile_26880_23296.txt\n",
      "Processed: tile_28672_19712.tif -> tile_28672_19712.txt\n",
      "Processed: tile_28672_21504.tif -> tile_28672_21504.txt\n",
      "Processed: tile_30464_17920.tif -> tile_30464_17920.txt\n"
     ]
    }
   ],
   "execution_count": 3
  }
 ],
 "metadata": {
  "kernelspec": {
   "display_name": "Python 3 (ipykernel)",
   "language": "python",
   "name": "python3"
  },
  "language_info": {
   "codemirror_mode": {
    "name": "ipython",
    "version": 3
   },
   "file_extension": ".py",
   "mimetype": "text/x-python",
   "name": "python",
   "nbconvert_exporter": "python",
   "pygments_lexer": "ipython3",
   "version": "3.12.4"
  }
 },
 "nbformat": 4,
 "nbformat_minor": 5
}
