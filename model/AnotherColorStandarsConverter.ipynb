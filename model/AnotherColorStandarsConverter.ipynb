{
 "cells": [
  {
   "metadata": {},
   "cell_type": "markdown",
   "source": "# RGB to HSV converter",
   "id": "eff21eeb7aab1f21"
  },
  {
   "metadata": {},
   "cell_type": "markdown",
   "source": "# This script converts RGB images in a dataset to HSV format.",
   "id": "ec2f7bb7c8673568"
  },
  {
   "metadata": {
    "ExecuteTime": {
     "end_time": "2025-05-18T13:05:20.261970Z",
     "start_time": "2025-05-18T13:05:20.259019Z"
    }
   },
   "cell_type": "code",
   "source": [
    "import cv2\n",
    "import shutil\n",
    "from tqdm import tqdm\n",
    "from pathlib import Path"
   ],
   "id": "b999160310e73b",
   "outputs": [],
   "execution_count": 3
  },
  {
   "metadata": {
    "ExecuteTime": {
     "end_time": "2025-05-18T13:05:21.054475Z",
     "start_time": "2025-05-18T13:05:21.048862Z"
    }
   },
   "cell_type": "code",
   "source": [
    "def convert_rgb_to_hsv_tif(input_file, output_file):\n",
    "    image = cv2.imread(str(input_file))\n",
    "    hsv_image = cv2.cvtColor(image, cv2.COLOR_BGR2HSV)\n",
    "    cv2.imwrite(str(output_file), hsv_image)\n",
    "    \n",
    "def process_rgb_to_hsv_dataset(data_path: Path, convert_rgb_to_hsv_tif):\n",
    "    output_path = data_path.parent / f\"{data_path.name}Hsv\"\n",
    "    output_path.mkdir(exist_ok=True)\n",
    "\n",
    "    for item in data_path.iterdir():\n",
    "        if item.is_dir() and item.name != \"images\":\n",
    "            shutil.copytree(item, output_path / item.name, dirs_exist_ok=True)\n",
    "\n",
    "    images_train_path = data_path / \"images\" / \"train\"\n",
    "    output_train_path = output_path / \"images\" / \"train\"\n",
    "    output_train_path.mkdir(parents=True, exist_ok=True)\n",
    "\n",
    "    for tif_file in tqdm(images_train_path.glob(\"*.tif\"), desc=\"Conversion RGB->HSV\"):\n",
    "        output_file = output_train_path / tif_file.name\n",
    "        convert_rgb_to_hsv_tif(tif_file, output_file)\n",
    "\n",
    "    print(\"All files have been processed.\")"
   ],
   "id": "331b0ddbe512e96e",
   "outputs": [],
   "execution_count": 4
  },
  {
   "metadata": {
    "ExecuteTime": {
     "end_time": "2025-05-18T13:05:25.614278Z",
     "start_time": "2025-05-18T13:05:21.779557Z"
    }
   },
   "cell_type": "code",
   "source": [
    "data_path = Path('../preprocessedData/LearnSet/data')\n",
    "process_rgb_to_hsv_dataset(data_path, convert_rgb_to_hsv_tif)"
   ],
   "id": "6eb3acf51e0442b1",
   "outputs": [
    {
     "name": "stderr",
     "output_type": "stream",
     "text": [
      "Conversion RGB->HSV: 20it [00:03,  5.24it/s]"
     ]
    },
    {
     "name": "stdout",
     "output_type": "stream",
     "text": [
      "All files have been processed.\n"
     ]
    },
    {
     "name": "stderr",
     "output_type": "stream",
     "text": [
      "\n"
     ]
    }
   ],
   "execution_count": 5
  }
 ],
 "metadata": {
  "kernelspec": {
   "display_name": "Python 3 (ipykernel)",
   "language": "python",
   "name": "python3"
  },
  "language_info": {
   "codemirror_mode": {
    "name": "ipython",
    "version": 3
   },
   "file_extension": ".py",
   "mimetype": "text/x-python",
   "name": "python",
   "nbconvert_exporter": "python",
   "pygments_lexer": "ipython3",
   "version": "3.12.4"
  }
 },
 "nbformat": 4,
 "nbformat_minor": 5
}
