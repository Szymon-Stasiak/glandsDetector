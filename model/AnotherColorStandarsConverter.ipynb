{
 "cells": [
  {
   "cell_type": "code",
   "execution_count": 2,
   "id": "7bb38d03-c786-42b3-b23c-be752dcaad12",
   "metadata": {},
   "outputs": [
    {
     "name": "stderr",
     "output_type": "stream",
     "text": [
      "Konwersja RGB->HSV: 20it [00:04,  4.29it/s]"
     ]
    },
    {
     "name": "stdout",
     "output_type": "stream",
     "text": [
      "All files have been processed.\n"
     ]
    },
    {
     "name": "stderr",
     "output_type": "stream",
     "text": [
      "\n"
     ]
    }
   ],
   "source": [
    "import os\n",
    "import cv2\n",
    "import shutil\n",
    "from tqdm import tqdm\n",
    "\n",
    "from pathlib import Path\n",
    "\n",
    "data_path = Path('../preprocessedData/LearnSet/data') \n",
    "output_path = data_path.parent / f\"{data_path.name}Hsv\"\n",
    "\n",
    "output_path.mkdir(exist_ok=True)\n",
    "\n",
    "def convert_rgb_to_hsv_tif(input_file, output_file):\n",
    "    image = cv2.imread(str(input_file))\n",
    "    hsv_image = cv2.cvtColor(image, cv2.COLOR_BGR2HSV)\n",
    "    cv2.imwrite(str(output_file), hsv_image)\n",
    "\n",
    "for item in data_path.iterdir():\n",
    "    if item.is_dir() and item.name != \"images\":\n",
    "        shutil.copytree(item, output_path / item.name, dirs_exist_ok=True)\n",
    "\n",
    "images_train_path = data_path / \"images\" / \"train\"\n",
    "output_train_path = output_path / \"images\" / \"train\"\n",
    "output_train_path.mkdir(parents=True, exist_ok=True)\n",
    "\n",
    "for tif_file in tqdm(images_train_path.glob(\"*.tif\"), desc=\"Konwersja RGB->HSV\"):\n",
    "    output_file = output_train_path / tif_file.name\n",
    "    convert_rgb_to_hsv_tif(tif_file, output_file)\n",
    "\n",
    "print(\"All files have been processed.\")\n"
   ]
  },
  {
   "cell_type": "code",
   "execution_count": null,
   "id": "ae439541-ed83-425d-ae49-45c403a41c55",
   "metadata": {},
   "outputs": [],
   "source": []
  },
  {
   "cell_type": "code",
   "execution_count": null,
   "id": "9809c58d-6649-49ff-9e5e-3dfec4645070",
   "metadata": {},
   "outputs": [],
   "source": []
  }
 ],
 "metadata": {
  "kernelspec": {
   "display_name": "Python 3 (ipykernel)",
   "language": "python",
   "name": "python3"
  },
  "language_info": {
   "codemirror_mode": {
    "name": "ipython",
    "version": 3
   },
   "file_extension": ".py",
   "mimetype": "text/x-python",
   "name": "python",
   "nbconvert_exporter": "python",
   "pygments_lexer": "ipython3",
   "version": "3.12.4"
  }
 },
 "nbformat": 4,
 "nbformat_minor": 5
}
