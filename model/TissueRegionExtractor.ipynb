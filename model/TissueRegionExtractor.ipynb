{
 "cells": [
  {
   "cell_type": "markdown",
   "id": "8d6f37af-6052-4b18-9c22-458f0d322173",
   "metadata": {},
   "source": [
    "# TissueRegionExtractor #"
   ]
  },
  {
   "cell_type": "markdown",
   "id": "6c2344a1-e5f8-44ba-83fb-07dead789ea3",
   "metadata": {},
   "source": [
    "This file contains a function designed to extract only the regions of interest—areas with tissue—from large morphological images.\n",
    "These extracted regions are then saved as TIFF files and will be used later for training the model.\n",
    "\n"
   ]
  },
  {
   "cell_type": "code",
   "execution_count": 14,
   "id": "eb261817-37cf-4724-adf4-28c4bfe52d5c",
   "metadata": {},
   "outputs": [],
   "source": [
    "import os\n",
    "import openslide\n",
    "import numpy as np\n",
    "import cv2"
   ]
  },
  {
   "cell_type": "code",
   "execution_count": 19,
   "id": "c0f59eb4-6dcd-4531-92da-8c2c393d8963",
   "metadata": {},
   "outputs": [],
   "source": [
    "def process_slide(slide_path, output_dir, downsample_factor=32):\n",
    "    os.makedirs(output_dir, exist_ok=True)\n",
    "\n",
    "    slide = openslide.OpenSlide(slide_path)\n",
    "    \n",
    "    level = slide.get_best_level_for_downsample(downsample_factor)\n",
    "    \n",
    "    dims = slide.level_dimensions[level]\n",
    "    \n",
    "    region = slide.read_region((0, 0), level, dims)\n",
    "    region = np.array(region.convert(\"RGB\"))\n",
    "    \n",
    "    gray = cv2.cvtColor(region, cv2.COLOR_RGB2GRAY)\n",
    "    \n",
    "    blur = cv2.GaussianBlur(gray, (5, 5), 0)\n",
    "    \n",
    "    _, binary = cv2.threshold(blur, 0, 255, cv2.THRESH_BINARY + cv2.THRESH_OTSU)\n",
    "    \n",
    "    if np.sum(binary == 255) > np.sum(binary == 0):\n",
    "        binary = cv2.bitwise_not(binary)\n",
    "    \n",
    "    kernel = np.ones((3, 3), np.uint8)\n",
    "    binary = cv2.morphologyEx(binary, cv2.MORPH_OPEN, kernel, iterations=2)\n",
    "    \n",
    "    contours, _ = cv2.findContours(binary, cv2.RETR_EXTERNAL, cv2.CHAIN_APPROX_SIMPLE)\n",
    "    \n",
    "    scale = slide.level_downsamples[level]\n",
    "    tissue_regions = []\n",
    "    \n",
    "    for cnt in contours:\n",
    "        x, y, w, h = cv2.boundingRect(cnt)\n",
    "        if w * h < 1000: \n",
    "            continue\n",
    "        x_full = int(x * scale)\n",
    "        y_full = int(y * scale)\n",
    "        w_full = int(w * scale)\n",
    "        h_full = int(h * scale)\n",
    "        tissue_regions.append((x_full, y_full, w_full, h_full))\n",
    "    \n",
    "    for idx, (x, y, w, h) in enumerate(tissue_regions):\n",
    "        tissue = slide.read_region((x, y), 0, (w, h)).convert(\"RGBA\")\n",
    "        tissue = tissue.convert(\"RGB\")\n",
    "        output_filename = os.path.join(output_dir, f\"tissue_region_{idx}.tiff\")\n",
    "        tissue.save(output_filename, format=\"TIFF\")\n",
    "        print(f\"Saved: {output_filename}\")"
   ]
  },
  {
   "cell_type": "code",
   "execution_count": 20,
   "id": "b00232eb-4445-41de-bdce-7387f51c2e39",
   "metadata": {},
   "outputs": [
    {
     "name": "stdout",
     "output_type": "stream",
     "text": [
      "Saved: ../preprocessedData/tissue_regions/1M02\\tissue_region_0.tiff\n",
      "Saved: ../preprocessedData/tissue_regions/1M02\\tissue_region_1.tiff\n",
      "Saved: ../preprocessedData/tissue_regions/1M02\\tissue_region_2.tiff\n",
      "Saved: ../preprocessedData/tissue_regions/1M02\\tissue_region_3.tiff\n",
      "Saved: ../preprocessedData/tissue_regions/1M02\\tissue_region_4.tiff\n"
     ]
    }
   ],
   "source": [
    "slide_file = '../data/patomorfologia/1M02.mrxs'\n",
    "output_folder = '../preprocessedData/tissue_regions/1M02'\n",
    "process_slide(slide_file, output_folder, downsample_factor=32)"
   ]
  },
  {
   "cell_type": "code",
   "execution_count": 21,
   "id": "108ee995-ec23-4e05-9ab2-d67d4c1213fc",
   "metadata": {},
   "outputs": [
    {
     "name": "stdout",
     "output_type": "stream",
     "text": [
      "Saved: ../preprocessedData/tissue_regions/1M01\\tissue_region_0.tiff\n",
      "Saved: ../preprocessedData/tissue_regions/1M01\\tissue_region_1.tiff\n",
      "Saved: ../preprocessedData/tissue_regions/1M01\\tissue_region_2.tiff\n"
     ]
    }
   ],
   "source": [
    "slide_file = '../data/patomorfologia/1M01.mrxs'\n",
    "output_folder = '../preprocessedData/tissue_regions/1M01'\n",
    "process_slide(slide_file, output_folder, downsample_factor=32)"
   ]
  }
 ],
 "metadata": {
  "kernelspec": {
   "display_name": "Python 3 (ipykernel)",
   "language": "python",
   "name": "python3"
  },
  "language_info": {
   "codemirror_mode": {
    "name": "ipython",
    "version": 3
   },
   "file_extension": ".py",
   "mimetype": "text/x-python",
   "name": "python",
   "nbconvert_exporter": "python",
   "pygments_lexer": "ipython3",
   "version": "3.12.4"
  }
 },
 "nbformat": 4,
 "nbformat_minor": 5
}
