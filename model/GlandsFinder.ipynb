{
 "cells": [
  {
   "cell_type": "markdown",
   "id": "2a92108e-3e92-492a-9e3f-523762e54070",
   "metadata": {},
   "source": [
    "# GlandsFinder #"
   ]
  },
  {
   "cell_type": "code",
   "execution_count": 1,
   "id": "4e61fbd8-8548-421b-8cb6-1d1151cfdf63",
   "metadata": {},
   "outputs": [],
   "source": [
    "from PIL import Image\n",
    "from PIL import ImageFile\n",
    "from PIL import Image\n",
    "import PIL\n",
    "PIL.Image.MAX_IMAGE_PIXELS = None\n",
    "from ultralytics import YOLO"
   ]
  },
  {
   "cell_type": "code",
   "execution_count": 8,
   "id": "f26d1b10-0be9-4ca9-9b51-b21f906e5518",
   "metadata": {},
   "outputs": [
    {
     "name": "stdout",
     "output_type": "stream",
     "text": [
      "Plik istnieje? True\n"
     ]
    }
   ],
   "source": [
    "import os\n",
    "\n",
    "# Sprawdzanie, czy plik istnieje w zadanej ścieżce\n",
    "path = '../preprocessedData/LearnSet145/data.yaml'\n",
    "print(\"Plik istnieje?\", os.path.exists(path))\n"
   ]
  },
  {
   "cell_type": "code",
   "execution_count": 13,
   "id": "20425207-bfeb-41c6-b856-40f15ad98f47",
   "metadata": {},
   "outputs": [
    {
     "name": "stdout",
     "output_type": "stream",
     "text": [
      "New https://pypi.org/project/ultralytics/8.3.107 available  Update with 'pip install -U ultralytics'\n",
      "Ultralytics 8.3.103  Python-3.12.4 torch-2.6.0+cpu CPU (12th Gen Intel Core(TM) i7-12700H)\n",
      "\u001b[34m\u001b[1mengine\\trainer: \u001b[0mtask=detect, mode=train, model=yolo11n.pt, data=../preprocessedData/LearnSet145/data.yaml, epochs=50, time=None, patience=100, batch=16, imgsz=640, save=True, save_period=-1, cache=False, device=None, workers=8, project=runs/train, name=Glands_Finder, exist_ok=True, pretrained=True, optimizer=auto, verbose=True, seed=0, deterministic=True, single_cls=False, rect=False, cos_lr=False, close_mosaic=10, resume=False, amp=True, fraction=1.0, profile=False, freeze=None, multi_scale=False, overlap_mask=True, mask_ratio=4, dropout=0.0, val=True, split=val, save_json=False, save_hybrid=False, conf=None, iou=0.7, max_det=300, half=False, dnn=False, plots=True, source=None, vid_stride=1, stream_buffer=False, visualize=False, augment=False, agnostic_nms=False, classes=None, retina_masks=False, embed=None, show=False, save_frames=False, save_txt=False, save_conf=False, save_crop=False, show_labels=True, show_conf=True, show_boxes=True, line_width=None, format=torchscript, keras=False, optimize=False, int8=False, dynamic=False, simplify=True, opset=None, workspace=None, nms=False, lr0=0.01, lrf=0.01, momentum=0.937, weight_decay=0.0005, warmup_epochs=3.0, warmup_momentum=0.8, warmup_bias_lr=0.1, box=7.5, cls=0.5, dfl=1.5, pose=12.0, kobj=1.0, nbs=64, hsv_h=0.015, hsv_s=0.7, hsv_v=0.4, degrees=0.0, translate=0.1, scale=0.5, shear=0.0, perspective=0.0, flipud=0.0, fliplr=0.5, bgr=0.0, mosaic=1.0, mixup=0.0, copy_paste=0.0, copy_paste_mode=flip, auto_augment=randaugment, erasing=0.4, crop_fraction=1.0, cfg=None, tracker=botsort.yaml, save_dir=runs\\train\\Glands_Finder\n",
      "Overriding model.yaml nc=80 with nc=1\n",
      "\n",
      "                   from  n    params  module                                       arguments                     \n",
      "  0                  -1  1       464  ultralytics.nn.modules.conv.Conv             [3, 16, 3, 2]                 \n",
      "  1                  -1  1      4672  ultralytics.nn.modules.conv.Conv             [16, 32, 3, 2]                \n",
      "  2                  -1  1      6640  ultralytics.nn.modules.block.C3k2            [32, 64, 1, False, 0.25]      \n",
      "  3                  -1  1     36992  ultralytics.nn.modules.conv.Conv             [64, 64, 3, 2]                \n",
      "  4                  -1  1     26080  ultralytics.nn.modules.block.C3k2            [64, 128, 1, False, 0.25]     \n",
      "  5                  -1  1    147712  ultralytics.nn.modules.conv.Conv             [128, 128, 3, 2]              \n",
      "  6                  -1  1     87040  ultralytics.nn.modules.block.C3k2            [128, 128, 1, True]           \n",
      "  7                  -1  1    295424  ultralytics.nn.modules.conv.Conv             [128, 256, 3, 2]              \n",
      "  8                  -1  1    346112  ultralytics.nn.modules.block.C3k2            [256, 256, 1, True]           \n",
      "  9                  -1  1    164608  ultralytics.nn.modules.block.SPPF            [256, 256, 5]                 \n",
      " 10                  -1  1    249728  ultralytics.nn.modules.block.C2PSA           [256, 256, 1]                 \n",
      " 11                  -1  1         0  torch.nn.modules.upsampling.Upsample         [None, 2, 'nearest']          \n",
      " 12             [-1, 6]  1         0  ultralytics.nn.modules.conv.Concat           [1]                           \n",
      " 13                  -1  1    111296  ultralytics.nn.modules.block.C3k2            [384, 128, 1, False]          \n",
      " 14                  -1  1         0  torch.nn.modules.upsampling.Upsample         [None, 2, 'nearest']          \n",
      " 15             [-1, 4]  1         0  ultralytics.nn.modules.conv.Concat           [1]                           \n",
      " 16                  -1  1     32096  ultralytics.nn.modules.block.C3k2            [256, 64, 1, False]           \n",
      " 17                  -1  1     36992  ultralytics.nn.modules.conv.Conv             [64, 64, 3, 2]                \n",
      " 18            [-1, 13]  1         0  ultralytics.nn.modules.conv.Concat           [1]                           \n",
      " 19                  -1  1     86720  ultralytics.nn.modules.block.C3k2            [192, 128, 1, False]          \n",
      " 20                  -1  1    147712  ultralytics.nn.modules.conv.Conv             [128, 128, 3, 2]              \n",
      " 21            [-1, 10]  1         0  ultralytics.nn.modules.conv.Concat           [1]                           \n",
      " 22                  -1  1    378880  ultralytics.nn.modules.block.C3k2            [384, 256, 1, True]           \n",
      " 23        [16, 19, 22]  1    430867  ultralytics.nn.modules.head.Detect           [1, [64, 128, 256]]           \n",
      "YOLO11n summary: 181 layers, 2,590,035 parameters, 2,590,019 gradients, 6.4 GFLOPs\n",
      "\n",
      "Transferred 448/499 items from pretrained weights\n",
      "\u001b[34m\u001b[1mTensorBoard: \u001b[0mStart with 'tensorboard --logdir runs\\train\\Glands_Finder', view at http://localhost:6006/\n",
      "Freezing layer 'model.23.dfl.conv.weight'\n"
     ]
    },
    {
     "name": "stderr",
     "output_type": "stream",
     "text": [
      "\u001b[34m\u001b[1mtrain: \u001b[0mScanning C:\\Users\\stszy\\jupyterNoteBookNotes\\cellDetector\\preprocessedData\\LearnSet145\\labels\\train.cache... 19 \u001b[0m"
     ]
    },
    {
     "name": "stdout",
     "output_type": "stream",
     "text": [
      "\u001b[34m\u001b[1malbumentations: \u001b[0mBlur(p=0.01, blur_limit=(3, 7)), MedianBlur(p=0.01, blur_limit=(3, 7)), ToGray(p=0.01, num_output_channels=3, method='weighted_average'), CLAHE(p=0.01, clip_limit=(1.0, 4.0), tile_grid_size=(8, 8))\n"
     ]
    },
    {
     "name": "stderr",
     "output_type": "stream",
     "text": [
      "\n",
      "\u001b[34m\u001b[1mval: \u001b[0mScanning C:\\Users\\stszy\\jupyterNoteBookNotes\\cellDetector\\preprocessedData\\LearnSet145\\labels\\train.cache... 19 im\u001b[0m"
     ]
    },
    {
     "name": "stdout",
     "output_type": "stream",
     "text": [
      "Plotting labels to runs\\train\\Glands_Finder\\labels.jpg... \n"
     ]
    },
    {
     "name": "stderr",
     "output_type": "stream",
     "text": [
      "\n"
     ]
    },
    {
     "name": "stdout",
     "output_type": "stream",
     "text": [
      "\u001b[34m\u001b[1moptimizer:\u001b[0m 'optimizer=auto' found, ignoring 'lr0=0.01' and 'momentum=0.937' and determining best 'optimizer', 'lr0' and 'momentum' automatically... \n",
      "\u001b[34m\u001b[1moptimizer:\u001b[0m AdamW(lr=0.002, momentum=0.9) with parameter groups 81 weight(decay=0.0), 88 weight(decay=0.0005), 87 bias(decay=0.0)\n",
      "\u001b[34m\u001b[1mTensorBoard: \u001b[0mmodel graph visualization added \n",
      "Image sizes 640 train, 640 val\n",
      "Using 0 dataloader workers\n",
      "Logging results to \u001b[1mruns\\train\\Glands_Finder\u001b[0m\n",
      "Starting training for 50 epochs...\n",
      "\n",
      "      Epoch    GPU_mem   box_loss   cls_loss   dfl_loss  Instances       Size\n"
     ]
    },
    {
     "name": "stderr",
     "output_type": "stream",
     "text": [
      "       1/50         0G      1.435       3.39      1.455        110        640: 100%|██████████| 2/2 [00:06<00:00,  3.10\n",
      "                 Class     Images  Instances      Box(P          R      mAP50  mAP50-95): 100%|██████████| 1/1 [00:01<0"
     ]
    },
    {
     "name": "stdout",
     "output_type": "stream",
     "text": [
      "                   all         19        400     0.0344       0.49     0.0271     0.0158\n",
      "\n",
      "      Epoch    GPU_mem   box_loss   cls_loss   dfl_loss  Instances       Size\n"
     ]
    },
    {
     "name": "stderr",
     "output_type": "stream",
     "text": [
      "\n",
      "       2/50         0G      1.139      3.298      1.357         29        640: 100%|██████████| 2/2 [00:03<00:00,  1.87\n",
      "                 Class     Images  Instances      Box(P          R      mAP50  mAP50-95): 100%|██████████| 1/1 [00:01<0"
     ]
    },
    {
     "name": "stdout",
     "output_type": "stream",
     "text": [
      "                   all         19        400     0.0468      0.667     0.0459      0.031\n",
      "\n",
      "      Epoch    GPU_mem   box_loss   cls_loss   dfl_loss  Instances       Size\n"
     ]
    },
    {
     "name": "stderr",
     "output_type": "stream",
     "text": [
      "\n",
      "       3/50         0G      1.201       3.29      1.277        137        640: 100%|██████████| 2/2 [00:03<00:00,  1.85\n",
      "                 Class     Images  Instances      Box(P          R      mAP50  mAP50-95): 100%|██████████| 1/1 [00:02<0"
     ]
    },
    {
     "name": "stdout",
     "output_type": "stream",
     "text": [
      "                   all         19        400     0.0602      0.858     0.0754     0.0535\n",
      "\n",
      "      Epoch    GPU_mem   box_loss   cls_loss   dfl_loss  Instances       Size\n"
     ]
    },
    {
     "name": "stderr",
     "output_type": "stream",
     "text": [
      "\n",
      "       4/50         0G     0.8367      3.043      1.042         54        640: 100%|██████████| 2/2 [00:03<00:00,  1.82\n",
      "                 Class     Images  Instances      Box(P          R      mAP50  mAP50-95): 100%|██████████| 1/1 [00:01<0"
     ]
    },
    {
     "name": "stdout",
     "output_type": "stream",
     "text": [
      "                   all         19        400     0.0661      0.943     0.0971     0.0709\n",
      "\n",
      "      Epoch    GPU_mem   box_loss   cls_loss   dfl_loss  Instances       Size\n"
     ]
    },
    {
     "name": "stderr",
     "output_type": "stream",
     "text": [
      "\n",
      "       5/50         0G     0.8786      2.925      1.045         82        640: 100%|██████████| 2/2 [00:04<00:00,  2.13\n",
      "                 Class     Images  Instances      Box(P          R      mAP50  mAP50-95): 100%|██████████| 1/1 [00:02<0"
     ]
    },
    {
     "name": "stdout",
     "output_type": "stream",
     "text": [
      "                   all         19        400     0.0684      0.975      0.107     0.0767\n",
      "\n",
      "      Epoch    GPU_mem   box_loss   cls_loss   dfl_loss  Instances       Size\n"
     ]
    },
    {
     "name": "stderr",
     "output_type": "stream",
     "text": [
      "\n",
      "       6/50         0G     0.8319      2.769      1.029        124        640: 100%|██████████| 2/2 [00:03<00:00,  1.76\n",
      "                 Class     Images  Instances      Box(P          R      mAP50  mAP50-95): 100%|██████████| 1/1 [00:01<0"
     ]
    },
    {
     "name": "stdout",
     "output_type": "stream",
     "text": [
      "                   all         19        400     0.0686      0.978      0.167      0.107\n",
      "\n",
      "      Epoch    GPU_mem   box_loss   cls_loss   dfl_loss  Instances       Size\n"
     ]
    },
    {
     "name": "stderr",
     "output_type": "stream",
     "text": [
      "\n",
      "       7/50         0G     0.7705      2.534     0.9975         76        640: 100%|██████████| 2/2 [00:03<00:00,  1.79\n",
      "                 Class     Images  Instances      Box(P          R      mAP50  mAP50-95): 100%|██████████| 1/1 [00:02<0"
     ]
    },
    {
     "name": "stdout",
     "output_type": "stream",
     "text": [
      "                   all         19        400     0.0679      0.968      0.333      0.219\n",
      "\n",
      "      Epoch    GPU_mem   box_loss   cls_loss   dfl_loss  Instances       Size\n"
     ]
    },
    {
     "name": "stderr",
     "output_type": "stream",
     "text": [
      "\n",
      "       8/50         0G     0.8859      2.368      1.072         52        640: 100%|██████████| 2/2 [00:03<00:00,  1.82\n",
      "                 Class     Images  Instances      Box(P          R      mAP50  mAP50-95): 100%|██████████| 1/1 [00:02<0"
     ]
    },
    {
     "name": "stdout",
     "output_type": "stream",
     "text": [
      "                   all         19        400     0.0677      0.965      0.439      0.286\n",
      "\n",
      "      Epoch    GPU_mem   box_loss   cls_loss   dfl_loss  Instances       Size\n"
     ]
    },
    {
     "name": "stderr",
     "output_type": "stream",
     "text": [
      "\n",
      "       9/50         0G     0.8509      2.125       1.08         49        640: 100%|██████████| 2/2 [00:03<00:00,  1.91\n",
      "                 Class     Images  Instances      Box(P          R      mAP50  mAP50-95): 100%|██████████| 1/1 [00:01<0"
     ]
    },
    {
     "name": "stdout",
     "output_type": "stream",
     "text": [
      "                   all         19        400     0.0682      0.973       0.48      0.329\n",
      "\n",
      "      Epoch    GPU_mem   box_loss   cls_loss   dfl_loss  Instances       Size\n"
     ]
    },
    {
     "name": "stderr",
     "output_type": "stream",
     "text": [
      "\n",
      "      10/50         0G      0.764      2.123     0.9754        105        640: 100%|██████████| 2/2 [00:03<00:00,  1.82\n",
      "                 Class     Images  Instances      Box(P          R      mAP50  mAP50-95): 100%|██████████| 1/1 [00:01<0"
     ]
    },
    {
     "name": "stdout",
     "output_type": "stream",
     "text": [
      "                   all         19        400     0.0688       0.98      0.533      0.371\n",
      "\n",
      "      Epoch    GPU_mem   box_loss   cls_loss   dfl_loss  Instances       Size\n"
     ]
    },
    {
     "name": "stderr",
     "output_type": "stream",
     "text": [
      "\n",
      "      11/50         0G     0.8125      2.182     0.9738        118        640: 100%|██████████| 2/2 [00:03<00:00,  1.71\n",
      "                 Class     Images  Instances      Box(P          R      mAP50  mAP50-95): 100%|██████████| 1/1 [00:02<0"
     ]
    },
    {
     "name": "stdout",
     "output_type": "stream",
     "text": [
      "                   all         19        400       0.07      0.998      0.583      0.406\n",
      "\n",
      "      Epoch    GPU_mem   box_loss   cls_loss   dfl_loss  Instances       Size\n"
     ]
    },
    {
     "name": "stderr",
     "output_type": "stream",
     "text": [
      "\n",
      "      12/50         0G     0.7597      2.064      1.007         78        640: 100%|██████████| 2/2 [00:03<00:00,  1.77\n",
      "                 Class     Images  Instances      Box(P          R      mAP50  mAP50-95): 100%|██████████| 1/1 [00:01<0"
     ]
    },
    {
     "name": "stdout",
     "output_type": "stream",
     "text": [
      "                   all         19        400       0.07      0.998      0.577      0.413\n",
      "\n",
      "      Epoch    GPU_mem   box_loss   cls_loss   dfl_loss  Instances       Size\n"
     ]
    },
    {
     "name": "stderr",
     "output_type": "stream",
     "text": [
      "\n",
      "      13/50         0G      0.807      1.767      1.011         55        640: 100%|██████████| 2/2 [00:03<00:00,  1.75\n",
      "                 Class     Images  Instances      Box(P          R      mAP50  mAP50-95): 100%|██████████| 1/1 [00:01<0"
     ]
    },
    {
     "name": "stdout",
     "output_type": "stream",
     "text": [
      "                   all         19        400     0.0698      0.995      0.495      0.351\n",
      "\n",
      "      Epoch    GPU_mem   box_loss   cls_loss   dfl_loss  Instances       Size\n"
     ]
    },
    {
     "name": "stderr",
     "output_type": "stream",
     "text": [
      "\n",
      "      14/50         0G     0.9608      1.645      1.105         55        640: 100%|██████████| 2/2 [00:03<00:00,  1.93\n",
      "                 Class     Images  Instances      Box(P          R      mAP50  mAP50-95): 100%|██████████| 1/1 [00:02<0"
     ]
    },
    {
     "name": "stdout",
     "output_type": "stream",
     "text": [
      "                   all         19        400     0.0698      0.995      0.463      0.334\n",
      "\n",
      "      Epoch    GPU_mem   box_loss   cls_loss   dfl_loss  Instances       Size\n"
     ]
    },
    {
     "name": "stderr",
     "output_type": "stream",
     "text": [
      "\n",
      "      15/50         0G     0.7368      1.595      0.985         72        640: 100%|██████████| 2/2 [00:03<00:00,  1.66\n",
      "                 Class     Images  Instances      Box(P          R      mAP50  mAP50-95): 100%|██████████| 1/1 [00:02<0"
     ]
    },
    {
     "name": "stdout",
     "output_type": "stream",
     "text": [
      "                   all         19        400     0.0695       0.99      0.495      0.368\n"
     ]
    },
    {
     "name": "stderr",
     "output_type": "stream",
     "text": [
      "\n"
     ]
    },
    {
     "name": "stdout",
     "output_type": "stream",
     "text": [
      "\n",
      "      Epoch    GPU_mem   box_loss   cls_loss   dfl_loss  Instances       Size\n"
     ]
    },
    {
     "name": "stderr",
     "output_type": "stream",
     "text": [
      "      16/50         0G       0.71      1.499     0.9491        122        640: 100%|██████████| 2/2 [00:03<00:00,  1.68\n",
      "                 Class     Images  Instances      Box(P          R      mAP50  mAP50-95): 100%|██████████| 1/1 [00:01<0"
     ]
    },
    {
     "name": "stdout",
     "output_type": "stream",
     "text": [
      "                   all         19        400     0.0695       0.99      0.499      0.378\n",
      "\n",
      "      Epoch    GPU_mem   box_loss   cls_loss   dfl_loss  Instances       Size\n"
     ]
    },
    {
     "name": "stderr",
     "output_type": "stream",
     "text": [
      "\n",
      "      17/50         0G     0.8335      1.405      1.057         62        640: 100%|██████████| 2/2 [00:03<00:00,  1.69\n",
      "                 Class     Images  Instances      Box(P          R      mAP50  mAP50-95): 100%|██████████| 1/1 [00:02<0"
     ]
    },
    {
     "name": "stdout",
     "output_type": "stream",
     "text": [
      "                   all         19        400     0.0695       0.99       0.47      0.349\n",
      "\n",
      "      Epoch    GPU_mem   box_loss   cls_loss   dfl_loss  Instances       Size\n"
     ]
    },
    {
     "name": "stderr",
     "output_type": "stream",
     "text": [
      "\n",
      "      18/50         0G     0.6615      1.242     0.9004         93        640: 100%|██████████| 2/2 [00:03<00:00,  1.93\n",
      "                 Class     Images  Instances      Box(P          R      mAP50  mAP50-95): 100%|██████████| 1/1 [00:01<0"
     ]
    },
    {
     "name": "stdout",
     "output_type": "stream",
     "text": [
      "                   all         19        400     0.0695       0.99      0.431      0.316\n",
      "\n",
      "      Epoch    GPU_mem   box_loss   cls_loss   dfl_loss  Instances       Size\n"
     ]
    },
    {
     "name": "stderr",
     "output_type": "stream",
     "text": [
      "\n",
      "      19/50         0G     0.7136       1.19     0.9704         61        640: 100%|██████████| 2/2 [00:03<00:00,  1.68\n",
      "                 Class     Images  Instances      Box(P          R      mAP50  mAP50-95): 100%|██████████| 1/1 [00:01<0"
     ]
    },
    {
     "name": "stdout",
     "output_type": "stream",
     "text": [
      "                   all         19        400     0.0693      0.988      0.477       0.37\n",
      "\n",
      "      Epoch    GPU_mem   box_loss   cls_loss   dfl_loss  Instances       Size\n"
     ]
    },
    {
     "name": "stderr",
     "output_type": "stream",
     "text": [
      "\n",
      "      20/50         0G     0.8096      1.402      1.097         28        640: 100%|██████████| 2/2 [00:03<00:00,  1.72\n",
      "                 Class     Images  Instances      Box(P          R      mAP50  mAP50-95): 100%|██████████| 1/1 [00:01<0"
     ]
    },
    {
     "name": "stdout",
     "output_type": "stream",
     "text": [
      "                   all         19        400     0.0693      0.988      0.588      0.462\n",
      "\n",
      "      Epoch    GPU_mem   box_loss   cls_loss   dfl_loss  Instances       Size\n"
     ]
    },
    {
     "name": "stderr",
     "output_type": "stream",
     "text": [
      "\n",
      "      21/50         0G     0.6954      1.129     0.9202        119        640: 100%|██████████| 2/2 [00:03<00:00,  1.76\n",
      "                 Class     Images  Instances      Box(P          R      mAP50  mAP50-95): 100%|██████████| 1/1 [00:01<0"
     ]
    },
    {
     "name": "stdout",
     "output_type": "stream",
     "text": [
      "                   all         19        400     0.0691      0.985      0.626      0.491\n",
      "\n",
      "      Epoch    GPU_mem   box_loss   cls_loss   dfl_loss  Instances       Size\n"
     ]
    },
    {
     "name": "stderr",
     "output_type": "stream",
     "text": [
      "\n",
      "      22/50         0G     0.7657      1.191      1.006         35        640: 100%|██████████| 2/2 [00:03<00:00,  1.67\n",
      "                 Class     Images  Instances      Box(P          R      mAP50  mAP50-95): 100%|██████████| 1/1 [00:02<0"
     ]
    },
    {
     "name": "stdout",
     "output_type": "stream",
     "text": [
      "                   all         19        400     0.0691      0.985      0.631      0.505\n",
      "\n",
      "      Epoch    GPU_mem   box_loss   cls_loss   dfl_loss  Instances       Size\n"
     ]
    },
    {
     "name": "stderr",
     "output_type": "stream",
     "text": [
      "\n",
      "      23/50         0G      0.693      1.079     0.9488        106        640: 100%|██████████| 2/2 [00:03<00:00,  1.72\n",
      "                 Class     Images  Instances      Box(P          R      mAP50  mAP50-95): 100%|██████████| 1/1 [00:02<0"
     ]
    },
    {
     "name": "stdout",
     "output_type": "stream",
     "text": [
      "                   all         19        400     0.0689      0.983      0.622      0.507\n",
      "\n",
      "      Epoch    GPU_mem   box_loss   cls_loss   dfl_loss  Instances       Size\n"
     ]
    },
    {
     "name": "stderr",
     "output_type": "stream",
     "text": [
      "\n",
      "      24/50         0G     0.6073     0.9723     0.9217         74        640: 100%|██████████| 2/2 [00:03<00:00,  1.76\n",
      "                 Class     Images  Instances      Box(P          R      mAP50  mAP50-95): 100%|██████████| 1/1 [00:01<0"
     ]
    },
    {
     "name": "stdout",
     "output_type": "stream",
     "text": [
      "                   all         19        400     0.0689      0.983      0.568      0.472\n",
      "\n",
      "      Epoch    GPU_mem   box_loss   cls_loss   dfl_loss  Instances       Size\n"
     ]
    },
    {
     "name": "stderr",
     "output_type": "stream",
     "text": [
      "\n",
      "      25/50         0G     0.6374     0.9364     0.9561         87        640: 100%|██████████| 2/2 [00:03<00:00,  1.66\n",
      "                 Class     Images  Instances      Box(P          R      mAP50  mAP50-95): 100%|██████████| 1/1 [00:02<0"
     ]
    },
    {
     "name": "stdout",
     "output_type": "stream",
     "text": [
      "                   all         19        400     0.0686      0.978      0.586      0.479\n",
      "\n",
      "      Epoch    GPU_mem   box_loss   cls_loss   dfl_loss  Instances       Size\n"
     ]
    },
    {
     "name": "stderr",
     "output_type": "stream",
     "text": [
      "\n",
      "      26/50         0G     0.6245     0.8186     0.9406         74        640: 100%|██████████| 2/2 [00:03<00:00,  1.93\n",
      "                 Class     Images  Instances      Box(P          R      mAP50  mAP50-95): 100%|██████████| 1/1 [00:02<0"
     ]
    },
    {
     "name": "stdout",
     "output_type": "stream",
     "text": [
      "                   all         19        400     0.0681       0.97      0.629      0.515\n",
      "\n",
      "      Epoch    GPU_mem   box_loss   cls_loss   dfl_loss  Instances       Size\n"
     ]
    },
    {
     "name": "stderr",
     "output_type": "stream",
     "text": [
      "\n",
      "      27/50         0G     0.8355      1.059      1.091         48        640: 100%|██████████| 2/2 [00:04<00:00,  2.05\n",
      "                 Class     Images  Instances      Box(P          R      mAP50  mAP50-95): 100%|██████████| 1/1 [00:02<0"
     ]
    },
    {
     "name": "stdout",
     "output_type": "stream",
     "text": [
      "                   all         19        400      0.127      0.935      0.711      0.589\n",
      "\n",
      "      Epoch    GPU_mem   box_loss   cls_loss   dfl_loss  Instances       Size\n"
     ]
    },
    {
     "name": "stderr",
     "output_type": "stream",
     "text": [
      "\n",
      "      28/50         0G     0.6293     0.8586     0.9309        151        640: 100%|██████████| 2/2 [00:03<00:00,  1.97\n",
      "                 Class     Images  Instances      Box(P          R      mAP50  mAP50-95): 100%|██████████| 1/1 [00:02<0"
     ]
    },
    {
     "name": "stdout",
     "output_type": "stream",
     "text": [
      "                   all         19        400      0.127      0.935      0.711      0.589\n",
      "\n",
      "      Epoch    GPU_mem   box_loss   cls_loss   dfl_loss  Instances       Size\n"
     ]
    },
    {
     "name": "stderr",
     "output_type": "stream",
     "text": [
      "\n",
      "      29/50         0G     0.6681     0.8729     0.9354        101        640: 100%|██████████| 2/2 [00:04<00:00,  2.11\n",
      "                 Class     Images  Instances      Box(P          R      mAP50  mAP50-95): 100%|██████████| 1/1 [00:02<0"
     ]
    },
    {
     "name": "stdout",
     "output_type": "stream",
     "text": [
      "                   all         19        400      0.864      0.615      0.744      0.627\n",
      "\n",
      "      Epoch    GPU_mem   box_loss   cls_loss   dfl_loss  Instances       Size\n"
     ]
    },
    {
     "name": "stderr",
     "output_type": "stream",
     "text": [
      "\n",
      "      30/50         0G     0.7884      1.008      1.051         49        640: 100%|██████████| 2/2 [00:04<00:00,  2.23\n",
      "                 Class     Images  Instances      Box(P          R      mAP50  mAP50-95): 100%|██████████| 1/1 [00:02<0"
     ]
    },
    {
     "name": "stdout",
     "output_type": "stream",
     "text": [
      "                   all         19        400      0.981      0.388      0.785      0.671\n",
      "\n",
      "      Epoch    GPU_mem   box_loss   cls_loss   dfl_loss  Instances       Size\n"
     ]
    },
    {
     "name": "stderr",
     "output_type": "stream",
     "text": [
      "\n",
      "      31/50         0G     0.6686     0.7856     0.9312        109        640: 100%|██████████| 2/2 [00:04<00:00,  2.08\n",
      "                 Class     Images  Instances      Box(P          R      mAP50  mAP50-95): 100%|██████████| 1/1 [00:02<0"
     ]
    },
    {
     "name": "stdout",
     "output_type": "stream",
     "text": [
      "                   all         19        400      0.981      0.388      0.785      0.671\n",
      "\n",
      "      Epoch    GPU_mem   box_loss   cls_loss   dfl_loss  Instances       Size\n"
     ]
    },
    {
     "name": "stderr",
     "output_type": "stream",
     "text": [
      "\n",
      "      32/50         0G     0.6353     0.8773     0.9602         84        640: 100%|██████████| 2/2 [00:03<00:00,  1.82\n",
      "                 Class     Images  Instances      Box(P          R      mAP50  mAP50-95): 100%|██████████| 1/1 [00:02<0"
     ]
    },
    {
     "name": "stdout",
     "output_type": "stream",
     "text": [
      "                   all         19        400      0.955      0.533      0.821      0.717\n"
     ]
    },
    {
     "name": "stderr",
     "output_type": "stream",
     "text": [
      "\n"
     ]
    },
    {
     "name": "stdout",
     "output_type": "stream",
     "text": [
      "\n",
      "      Epoch    GPU_mem   box_loss   cls_loss   dfl_loss  Instances       Size\n"
     ]
    },
    {
     "name": "stderr",
     "output_type": "stream",
     "text": [
      "      33/50         0G     0.6349     0.7828     0.9475         64        640: 100%|██████████| 2/2 [00:03<00:00,  1.93\n",
      "                 Class     Images  Instances      Box(P          R      mAP50  mAP50-95): 100%|██████████| 1/1 [00:02<0"
     ]
    },
    {
     "name": "stdout",
     "output_type": "stream",
     "text": [
      "                   all         19        400      0.921      0.733      0.858      0.754\n",
      "\n",
      "      Epoch    GPU_mem   box_loss   cls_loss   dfl_loss  Instances       Size\n"
     ]
    },
    {
     "name": "stderr",
     "output_type": "stream",
     "text": [
      "\n",
      "      34/50         0G     0.5893      0.857      0.956         65        640: 100%|██████████| 2/2 [00:03<00:00,  1.84\n",
      "                 Class     Images  Instances      Box(P          R      mAP50  mAP50-95): 100%|██████████| 1/1 [00:02<0"
     ]
    },
    {
     "name": "stdout",
     "output_type": "stream",
     "text": [
      "                   all         19        400      0.921      0.733      0.858      0.754\n",
      "\n",
      "      Epoch    GPU_mem   box_loss   cls_loss   dfl_loss  Instances       Size\n"
     ]
    },
    {
     "name": "stderr",
     "output_type": "stream",
     "text": [
      "\n",
      "      35/50         0G     0.5861     0.8613     0.9369        161        640: 100%|██████████| 2/2 [00:03<00:00,  1.88\n",
      "                 Class     Images  Instances      Box(P          R      mAP50  mAP50-95): 100%|██████████| 1/1 [00:02<0"
     ]
    },
    {
     "name": "stdout",
     "output_type": "stream",
     "text": [
      "                   all         19        400      0.894      0.803      0.893      0.793\n",
      "\n",
      "      Epoch    GPU_mem   box_loss   cls_loss   dfl_loss  Instances       Size\n"
     ]
    },
    {
     "name": "stderr",
     "output_type": "stream",
     "text": [
      "\n",
      "      36/50         0G     0.8575       1.77       1.16         21        640: 100%|██████████| 2/2 [00:04<00:00,  2.08\n",
      "                 Class     Images  Instances      Box(P          R      mAP50  mAP50-95): 100%|██████████| 1/1 [00:02<0"
     ]
    },
    {
     "name": "stdout",
     "output_type": "stream",
     "text": [
      "                   all         19        400      0.896      0.823      0.912       0.81\n",
      "\n",
      "      Epoch    GPU_mem   box_loss   cls_loss   dfl_loss  Instances       Size\n"
     ]
    },
    {
     "name": "stderr",
     "output_type": "stream",
     "text": [
      "\n",
      "      37/50         0G     0.6421     0.7742     0.9045         89        640: 100%|██████████| 2/2 [00:04<00:00,  2.10\n",
      "                 Class     Images  Instances      Box(P          R      mAP50  mAP50-95): 100%|██████████| 1/1 [00:02<0"
     ]
    },
    {
     "name": "stdout",
     "output_type": "stream",
     "text": [
      "                   all         19        400      0.896      0.823      0.912       0.81\n",
      "\n",
      "      Epoch    GPU_mem   box_loss   cls_loss   dfl_loss  Instances       Size\n"
     ]
    },
    {
     "name": "stderr",
     "output_type": "stream",
     "text": [
      "\n",
      "      38/50         0G     0.5635     0.7769     0.9242         61        640: 100%|██████████| 2/2 [00:04<00:00,  2.07\n",
      "                 Class     Images  Instances      Box(P          R      mAP50  mAP50-95): 100%|██████████| 1/1 [00:02<0"
     ]
    },
    {
     "name": "stdout",
     "output_type": "stream",
     "text": [
      "                   all         19        400      0.891      0.855      0.927      0.825\n",
      "\n",
      "      Epoch    GPU_mem   box_loss   cls_loss   dfl_loss  Instances       Size\n"
     ]
    },
    {
     "name": "stderr",
     "output_type": "stream",
     "text": [
      "\n",
      "      39/50         0G     0.5747     0.7645     0.9497         95        640: 100%|██████████| 2/2 [00:03<00:00,  1.75\n",
      "                 Class     Images  Instances      Box(P          R      mAP50  mAP50-95): 100%|██████████| 1/1 [00:02<0"
     ]
    },
    {
     "name": "stdout",
     "output_type": "stream",
     "text": [
      "                   all         19        400       0.89      0.885      0.938      0.836\n",
      "\n",
      "      Epoch    GPU_mem   box_loss   cls_loss   dfl_loss  Instances       Size\n"
     ]
    },
    {
     "name": "stderr",
     "output_type": "stream",
     "text": [
      "\n",
      "      40/50         0G     0.5401     0.6973      0.924         60        640: 100%|██████████| 2/2 [00:03<00:00,  1.70\n",
      "                 Class     Images  Instances      Box(P          R      mAP50  mAP50-95): 100%|██████████| 1/1 [00:02<0"
     ]
    },
    {
     "name": "stdout",
     "output_type": "stream",
     "text": [
      "                   all         19        400       0.89      0.885      0.938      0.836\n",
      "Closing dataloader mosaic\n",
      "\u001b[34m\u001b[1malbumentations: \u001b[0mBlur(p=0.01, blur_limit=(3, 7)), MedianBlur(p=0.01, blur_limit=(3, 7)), ToGray(p=0.01, num_output_channels=3, method='weighted_average'), CLAHE(p=0.01, clip_limit=(1.0, 4.0), tile_grid_size=(8, 8))\n",
      "\n",
      "      Epoch    GPU_mem   box_loss   cls_loss   dfl_loss  Instances       Size\n"
     ]
    },
    {
     "name": "stderr",
     "output_type": "stream",
     "text": [
      "\n",
      "      41/50         0G     0.5096     0.7112     0.8948         91        640: 100%|██████████| 2/2 [00:03<00:00,  1.83\n",
      "                 Class     Images  Instances      Box(P          R      mAP50  mAP50-95): 100%|██████████| 1/1 [00:02<0"
     ]
    },
    {
     "name": "stdout",
     "output_type": "stream",
     "text": [
      "                   all         19        400      0.894      0.887      0.942       0.84\n",
      "\n",
      "      Epoch    GPU_mem   box_loss   cls_loss   dfl_loss  Instances       Size\n"
     ]
    },
    {
     "name": "stderr",
     "output_type": "stream",
     "text": [
      "\n",
      "      42/50         0G     0.5277     0.6253     0.8814         72        640: 100%|██████████| 2/2 [00:03<00:00,  1.75\n",
      "                 Class     Images  Instances      Box(P          R      mAP50  mAP50-95): 100%|██████████| 1/1 [00:02<0"
     ]
    },
    {
     "name": "stdout",
     "output_type": "stream",
     "text": [
      "                   all         19        400       0.87      0.902      0.941      0.846\n",
      "\n",
      "      Epoch    GPU_mem   box_loss   cls_loss   dfl_loss  Instances       Size\n"
     ]
    },
    {
     "name": "stderr",
     "output_type": "stream",
     "text": [
      "\n",
      "      43/50         0G     0.4608     0.6332     0.8623         68        640: 100%|██████████| 2/2 [00:03<00:00,  1.70\n",
      "                 Class     Images  Instances      Box(P          R      mAP50  mAP50-95): 100%|██████████| 1/1 [00:02<0"
     ]
    },
    {
     "name": "stdout",
     "output_type": "stream",
     "text": [
      "                   all         19        400       0.87      0.902      0.941      0.846\n",
      "\n",
      "      Epoch    GPU_mem   box_loss   cls_loss   dfl_loss  Instances       Size\n"
     ]
    },
    {
     "name": "stderr",
     "output_type": "stream",
     "text": [
      "\n",
      "      44/50         0G     0.4711     0.6426      0.851         67        640: 100%|██████████| 2/2 [00:03<00:00,  1.72\n",
      "                 Class     Images  Instances      Box(P          R      mAP50  mAP50-95): 100%|██████████| 1/1 [00:02<0"
     ]
    },
    {
     "name": "stdout",
     "output_type": "stream",
     "text": [
      "                   all         19        400      0.869      0.902      0.945      0.849\n",
      "\n",
      "      Epoch    GPU_mem   box_loss   cls_loss   dfl_loss  Instances       Size\n"
     ]
    },
    {
     "name": "stderr",
     "output_type": "stream",
     "text": [
      "\n",
      "      45/50         0G     0.5053     0.6764     0.8948         88        640: 100%|██████████| 2/2 [00:03<00:00,  1.77\n",
      "                 Class     Images  Instances      Box(P          R      mAP50  mAP50-95): 100%|██████████| 1/1 [00:02<0"
     ]
    },
    {
     "name": "stdout",
     "output_type": "stream",
     "text": [
      "                   all         19        400      0.869      0.902      0.945      0.849\n",
      "\n",
      "      Epoch    GPU_mem   box_loss   cls_loss   dfl_loss  Instances       Size\n"
     ]
    },
    {
     "name": "stderr",
     "output_type": "stream",
     "text": [
      "\n",
      "      46/50         0G     0.5389     0.8412     0.9149         32        640: 100%|██████████| 2/2 [00:03<00:00,  1.74\n",
      "                 Class     Images  Instances      Box(P          R      mAP50  mAP50-95): 100%|██████████| 1/1 [00:02<0"
     ]
    },
    {
     "name": "stdout",
     "output_type": "stream",
     "text": [
      "                   all         19        400      0.873      0.912       0.95      0.854\n",
      "\n",
      "      Epoch    GPU_mem   box_loss   cls_loss   dfl_loss  Instances       Size\n"
     ]
    },
    {
     "name": "stderr",
     "output_type": "stream",
     "text": [
      "\n",
      "      47/50         0G     0.4903      0.626     0.8648         59        640: 100%|██████████| 2/2 [00:03<00:00,  1.64\n",
      "                 Class     Images  Instances      Box(P          R      mAP50  mAP50-95): 100%|██████████| 1/1 [00:02<0"
     ]
    },
    {
     "name": "stdout",
     "output_type": "stream",
     "text": [
      "                   all         19        400      0.873      0.912       0.95      0.854\n",
      "\n",
      "      Epoch    GPU_mem   box_loss   cls_loss   dfl_loss  Instances       Size\n"
     ]
    },
    {
     "name": "stderr",
     "output_type": "stream",
     "text": [
      "\n",
      "      48/50         0G     0.4867     0.6794     0.8695         41        640: 100%|██████████| 2/2 [00:03<00:00,  1.60\n",
      "                 Class     Images  Instances      Box(P          R      mAP50  mAP50-95): 100%|██████████| 1/1 [00:02<0"
     ]
    },
    {
     "name": "stdout",
     "output_type": "stream",
     "text": [
      "                   all         19        400      0.865      0.928      0.955      0.861\n",
      "\n",
      "      Epoch    GPU_mem   box_loss   cls_loss   dfl_loss  Instances       Size\n"
     ]
    },
    {
     "name": "stderr",
     "output_type": "stream",
     "text": [
      "\n",
      "      49/50         0G     0.4769     0.6549     0.8754         45        640: 100%|██████████| 2/2 [00:03<00:00,  1.58\n",
      "                 Class     Images  Instances      Box(P          R      mAP50  mAP50-95): 100%|██████████| 1/1 [00:02<0"
     ]
    },
    {
     "name": "stdout",
     "output_type": "stream",
     "text": [
      "                   all         19        400      0.865      0.928      0.955      0.861\n",
      "\n",
      "      Epoch    GPU_mem   box_loss   cls_loss   dfl_loss  Instances       Size\n"
     ]
    },
    {
     "name": "stderr",
     "output_type": "stream",
     "text": [
      "\n",
      "      50/50         0G     0.4665     0.6029     0.8739         56        640: 100%|██████████| 2/2 [00:02<00:00,  1.50\n",
      "                 Class     Images  Instances      Box(P          R      mAP50  mAP50-95): 100%|██████████| 1/1 [00:02<0"
     ]
    },
    {
     "name": "stdout",
     "output_type": "stream",
     "text": [
      "                   all         19        400      0.871      0.927      0.962       0.87\n"
     ]
    },
    {
     "name": "stderr",
     "output_type": "stream",
     "text": [
      "\n"
     ]
    },
    {
     "name": "stdout",
     "output_type": "stream",
     "text": [
      "\n",
      "50 epochs completed in 0.084 hours.\n",
      "Optimizer stripped from runs\\train\\Glands_Finder\\weights\\last.pt, 5.5MB\n",
      "Optimizer stripped from runs\\train\\Glands_Finder\\weights\\best.pt, 5.5MB\n",
      "\n",
      "Validating runs\\train\\Glands_Finder\\weights\\best.pt...\n",
      "Ultralytics 8.3.103  Python-3.12.4 torch-2.6.0+cpu CPU (12th Gen Intel Core(TM) i7-12700H)\n",
      "YOLO11n summary (fused): 100 layers, 2,582,347 parameters, 0 gradients, 6.3 GFLOPs\n"
     ]
    },
    {
     "name": "stderr",
     "output_type": "stream",
     "text": [
      "                 Class     Images  Instances      Box(P          R      mAP50  mAP50-95): 100%|██████████| 1/1 [00:01<0\n"
     ]
    },
    {
     "name": "stdout",
     "output_type": "stream",
     "text": [
      "                   all         19        400      0.871      0.927      0.962       0.87\n",
      "Speed: 0.6ms preprocess, 38.2ms inference, 0.0ms loss, 15.0ms postprocess per image\n",
      "Results saved to \u001b[1mruns\\train\\Glands_Finder\u001b[0m\n"
     ]
    },
    {
     "data": {
      "text/plain": [
       "ultralytics.utils.metrics.DetMetrics object with attributes:\n",
       "\n",
       "ap_class_index: array([0])\n",
       "box: ultralytics.utils.metrics.Metric object\n",
       "confusion_matrix: <ultralytics.utils.metrics.ConfusionMatrix object at 0x0000015F6A1037D0>\n",
       "curves: ['Precision-Recall(B)', 'F1-Confidence(B)', 'Precision-Confidence(B)', 'Recall-Confidence(B)']\n",
       "curves_results: [[array([          0,    0.001001,    0.002002,    0.003003,    0.004004,    0.005005,    0.006006,    0.007007,    0.008008,    0.009009,     0.01001,    0.011011,    0.012012,    0.013013,    0.014014,    0.015015,    0.016016,    0.017017,    0.018018,    0.019019,     0.02002,    0.021021,    0.022022,    0.023023,\n",
       "          0.024024,    0.025025,    0.026026,    0.027027,    0.028028,    0.029029,     0.03003,    0.031031,    0.032032,    0.033033,    0.034034,    0.035035,    0.036036,    0.037037,    0.038038,    0.039039,     0.04004,    0.041041,    0.042042,    0.043043,    0.044044,    0.045045,    0.046046,    0.047047,\n",
       "          0.048048,    0.049049,     0.05005,    0.051051,    0.052052,    0.053053,    0.054054,    0.055055,    0.056056,    0.057057,    0.058058,    0.059059,     0.06006,    0.061061,    0.062062,    0.063063,    0.064064,    0.065065,    0.066066,    0.067067,    0.068068,    0.069069,     0.07007,    0.071071,\n",
       "          0.072072,    0.073073,    0.074074,    0.075075,    0.076076,    0.077077,    0.078078,    0.079079,     0.08008,    0.081081,    0.082082,    0.083083,    0.084084,    0.085085,    0.086086,    0.087087,    0.088088,    0.089089,     0.09009,    0.091091,    0.092092,    0.093093,    0.094094,    0.095095,\n",
       "          0.096096,    0.097097,    0.098098,    0.099099,      0.1001,      0.1011,      0.1021,      0.1031,      0.1041,     0.10511,     0.10611,     0.10711,     0.10811,     0.10911,     0.11011,     0.11111,     0.11211,     0.11311,     0.11411,     0.11512,     0.11612,     0.11712,     0.11812,     0.11912,\n",
       "           0.12012,     0.12112,     0.12212,     0.12312,     0.12412,     0.12513,     0.12613,     0.12713,     0.12813,     0.12913,     0.13013,     0.13113,     0.13213,     0.13313,     0.13413,     0.13514,     0.13614,     0.13714,     0.13814,     0.13914,     0.14014,     0.14114,     0.14214,     0.14314,\n",
       "           0.14414,     0.14515,     0.14615,     0.14715,     0.14815,     0.14915,     0.15015,     0.15115,     0.15215,     0.15315,     0.15415,     0.15516,     0.15616,     0.15716,     0.15816,     0.15916,     0.16016,     0.16116,     0.16216,     0.16316,     0.16416,     0.16517,     0.16617,     0.16717,\n",
       "           0.16817,     0.16917,     0.17017,     0.17117,     0.17217,     0.17317,     0.17417,     0.17518,     0.17618,     0.17718,     0.17818,     0.17918,     0.18018,     0.18118,     0.18218,     0.18318,     0.18418,     0.18519,     0.18619,     0.18719,     0.18819,     0.18919,     0.19019,     0.19119,\n",
       "           0.19219,     0.19319,     0.19419,      0.1952,      0.1962,      0.1972,      0.1982,      0.1992,      0.2002,      0.2012,      0.2022,      0.2032,      0.2042,     0.20521,     0.20621,     0.20721,     0.20821,     0.20921,     0.21021,     0.21121,     0.21221,     0.21321,     0.21421,     0.21522,\n",
       "           0.21622,     0.21722,     0.21822,     0.21922,     0.22022,     0.22122,     0.22222,     0.22322,     0.22422,     0.22523,     0.22623,     0.22723,     0.22823,     0.22923,     0.23023,     0.23123,     0.23223,     0.23323,     0.23423,     0.23524,     0.23624,     0.23724,     0.23824,     0.23924,\n",
       "           0.24024,     0.24124,     0.24224,     0.24324,     0.24424,     0.24525,     0.24625,     0.24725,     0.24825,     0.24925,     0.25025,     0.25125,     0.25225,     0.25325,     0.25425,     0.25526,     0.25626,     0.25726,     0.25826,     0.25926,     0.26026,     0.26126,     0.26226,     0.26326,\n",
       "           0.26426,     0.26527,     0.26627,     0.26727,     0.26827,     0.26927,     0.27027,     0.27127,     0.27227,     0.27327,     0.27427,     0.27528,     0.27628,     0.27728,     0.27828,     0.27928,     0.28028,     0.28128,     0.28228,     0.28328,     0.28428,     0.28529,     0.28629,     0.28729,\n",
       "           0.28829,     0.28929,     0.29029,     0.29129,     0.29229,     0.29329,     0.29429,      0.2953,      0.2963,      0.2973,      0.2983,      0.2993,      0.3003,      0.3013,      0.3023,      0.3033,      0.3043,     0.30531,     0.30631,     0.30731,     0.30831,     0.30931,     0.31031,     0.31131,\n",
       "           0.31231,     0.31331,     0.31431,     0.31532,     0.31632,     0.31732,     0.31832,     0.31932,     0.32032,     0.32132,     0.32232,     0.32332,     0.32432,     0.32533,     0.32633,     0.32733,     0.32833,     0.32933,     0.33033,     0.33133,     0.33233,     0.33333,     0.33433,     0.33534,\n",
       "           0.33634,     0.33734,     0.33834,     0.33934,     0.34034,     0.34134,     0.34234,     0.34334,     0.34434,     0.34535,     0.34635,     0.34735,     0.34835,     0.34935,     0.35035,     0.35135,     0.35235,     0.35335,     0.35435,     0.35536,     0.35636,     0.35736,     0.35836,     0.35936,\n",
       "           0.36036,     0.36136,     0.36236,     0.36336,     0.36436,     0.36537,     0.36637,     0.36737,     0.36837,     0.36937,     0.37037,     0.37137,     0.37237,     0.37337,     0.37437,     0.37538,     0.37638,     0.37738,     0.37838,     0.37938,     0.38038,     0.38138,     0.38238,     0.38338,\n",
       "           0.38438,     0.38539,     0.38639,     0.38739,     0.38839,     0.38939,     0.39039,     0.39139,     0.39239,     0.39339,     0.39439,      0.3954,      0.3964,      0.3974,      0.3984,      0.3994,      0.4004,      0.4014,      0.4024,      0.4034,      0.4044,     0.40541,     0.40641,     0.40741,\n",
       "           0.40841,     0.40941,     0.41041,     0.41141,     0.41241,     0.41341,     0.41441,     0.41542,     0.41642,     0.41742,     0.41842,     0.41942,     0.42042,     0.42142,     0.42242,     0.42342,     0.42442,     0.42543,     0.42643,     0.42743,     0.42843,     0.42943,     0.43043,     0.43143,\n",
       "           0.43243,     0.43343,     0.43443,     0.43544,     0.43644,     0.43744,     0.43844,     0.43944,     0.44044,     0.44144,     0.44244,     0.44344,     0.44444,     0.44545,     0.44645,     0.44745,     0.44845,     0.44945,     0.45045,     0.45145,     0.45245,     0.45345,     0.45445,     0.45546,\n",
       "           0.45646,     0.45746,     0.45846,     0.45946,     0.46046,     0.46146,     0.46246,     0.46346,     0.46446,     0.46547,     0.46647,     0.46747,     0.46847,     0.46947,     0.47047,     0.47147,     0.47247,     0.47347,     0.47447,     0.47548,     0.47648,     0.47748,     0.47848,     0.47948,\n",
       "           0.48048,     0.48148,     0.48248,     0.48348,     0.48448,     0.48549,     0.48649,     0.48749,     0.48849,     0.48949,     0.49049,     0.49149,     0.49249,     0.49349,     0.49449,      0.4955,      0.4965,      0.4975,      0.4985,      0.4995,      0.5005,      0.5015,      0.5025,      0.5035,\n",
       "            0.5045,     0.50551,     0.50651,     0.50751,     0.50851,     0.50951,     0.51051,     0.51151,     0.51251,     0.51351,     0.51451,     0.51552,     0.51652,     0.51752,     0.51852,     0.51952,     0.52052,     0.52152,     0.52252,     0.52352,     0.52452,     0.52553,     0.52653,     0.52753,\n",
       "           0.52853,     0.52953,     0.53053,     0.53153,     0.53253,     0.53353,     0.53453,     0.53554,     0.53654,     0.53754,     0.53854,     0.53954,     0.54054,     0.54154,     0.54254,     0.54354,     0.54454,     0.54555,     0.54655,     0.54755,     0.54855,     0.54955,     0.55055,     0.55155,\n",
       "           0.55255,     0.55355,     0.55455,     0.55556,     0.55656,     0.55756,     0.55856,     0.55956,     0.56056,     0.56156,     0.56256,     0.56356,     0.56456,     0.56557,     0.56657,     0.56757,     0.56857,     0.56957,     0.57057,     0.57157,     0.57257,     0.57357,     0.57457,     0.57558,\n",
       "           0.57658,     0.57758,     0.57858,     0.57958,     0.58058,     0.58158,     0.58258,     0.58358,     0.58458,     0.58559,     0.58659,     0.58759,     0.58859,     0.58959,     0.59059,     0.59159,     0.59259,     0.59359,     0.59459,      0.5956,      0.5966,      0.5976,      0.5986,      0.5996,\n",
       "            0.6006,      0.6016,      0.6026,      0.6036,      0.6046,     0.60561,     0.60661,     0.60761,     0.60861,     0.60961,     0.61061,     0.61161,     0.61261,     0.61361,     0.61461,     0.61562,     0.61662,     0.61762,     0.61862,     0.61962,     0.62062,     0.62162,     0.62262,     0.62362,\n",
       "           0.62462,     0.62563,     0.62663,     0.62763,     0.62863,     0.62963,     0.63063,     0.63163,     0.63263,     0.63363,     0.63463,     0.63564,     0.63664,     0.63764,     0.63864,     0.63964,     0.64064,     0.64164,     0.64264,     0.64364,     0.64464,     0.64565,     0.64665,     0.64765,\n",
       "           0.64865,     0.64965,     0.65065,     0.65165,     0.65265,     0.65365,     0.65465,     0.65566,     0.65666,     0.65766,     0.65866,     0.65966,     0.66066,     0.66166,     0.66266,     0.66366,     0.66466,     0.66567,     0.66667,     0.66767,     0.66867,     0.66967,     0.67067,     0.67167,\n",
       "           0.67267,     0.67367,     0.67467,     0.67568,     0.67668,     0.67768,     0.67868,     0.67968,     0.68068,     0.68168,     0.68268,     0.68368,     0.68468,     0.68569,     0.68669,     0.68769,     0.68869,     0.68969,     0.69069,     0.69169,     0.69269,     0.69369,     0.69469,      0.6957,\n",
       "            0.6967,      0.6977,      0.6987,      0.6997,      0.7007,      0.7017,      0.7027,      0.7037,      0.7047,     0.70571,     0.70671,     0.70771,     0.70871,     0.70971,     0.71071,     0.71171,     0.71271,     0.71371,     0.71471,     0.71572,     0.71672,     0.71772,     0.71872,     0.71972,\n",
       "           0.72072,     0.72172,     0.72272,     0.72372,     0.72472,     0.72573,     0.72673,     0.72773,     0.72873,     0.72973,     0.73073,     0.73173,     0.73273,     0.73373,     0.73473,     0.73574,     0.73674,     0.73774,     0.73874,     0.73974,     0.74074,     0.74174,     0.74274,     0.74374,\n",
       "           0.74474,     0.74575,     0.74675,     0.74775,     0.74875,     0.74975,     0.75075,     0.75175,     0.75275,     0.75375,     0.75475,     0.75576,     0.75676,     0.75776,     0.75876,     0.75976,     0.76076,     0.76176,     0.76276,     0.76376,     0.76476,     0.76577,     0.76677,     0.76777,\n",
       "           0.76877,     0.76977,     0.77077,     0.77177,     0.77277,     0.77377,     0.77477,     0.77578,     0.77678,     0.77778,     0.77878,     0.77978,     0.78078,     0.78178,     0.78278,     0.78378,     0.78478,     0.78579,     0.78679,     0.78779,     0.78879,     0.78979,     0.79079,     0.79179,\n",
       "           0.79279,     0.79379,     0.79479,      0.7958,      0.7968,      0.7978,      0.7988,      0.7998,      0.8008,      0.8018,      0.8028,      0.8038,      0.8048,     0.80581,     0.80681,     0.80781,     0.80881,     0.80981,     0.81081,     0.81181,     0.81281,     0.81381,     0.81481,     0.81582,\n",
       "           0.81682,     0.81782,     0.81882,     0.81982,     0.82082,     0.82182,     0.82282,     0.82382,     0.82482,     0.82583,     0.82683,     0.82783,     0.82883,     0.82983,     0.83083,     0.83183,     0.83283,     0.83383,     0.83483,     0.83584,     0.83684,     0.83784,     0.83884,     0.83984,\n",
       "           0.84084,     0.84184,     0.84284,     0.84384,     0.84484,     0.84585,     0.84685,     0.84785,     0.84885,     0.84985,     0.85085,     0.85185,     0.85285,     0.85385,     0.85485,     0.85586,     0.85686,     0.85786,     0.85886,     0.85986,     0.86086,     0.86186,     0.86286,     0.86386,\n",
       "           0.86486,     0.86587,     0.86687,     0.86787,     0.86887,     0.86987,     0.87087,     0.87187,     0.87287,     0.87387,     0.87487,     0.87588,     0.87688,     0.87788,     0.87888,     0.87988,     0.88088,     0.88188,     0.88288,     0.88388,     0.88488,     0.88589,     0.88689,     0.88789,\n",
       "           0.88889,     0.88989,     0.89089,     0.89189,     0.89289,     0.89389,     0.89489,      0.8959,      0.8969,      0.8979,      0.8989,      0.8999,      0.9009,      0.9019,      0.9029,      0.9039,      0.9049,     0.90591,     0.90691,     0.90791,     0.90891,     0.90991,     0.91091,     0.91191,\n",
       "           0.91291,     0.91391,     0.91491,     0.91592,     0.91692,     0.91792,     0.91892,     0.91992,     0.92092,     0.92192,     0.92292,     0.92392,     0.92492,     0.92593,     0.92693,     0.92793,     0.92893,     0.92993,     0.93093,     0.93193,     0.93293,     0.93393,     0.93493,     0.93594,\n",
       "           0.93694,     0.93794,     0.93894,     0.93994,     0.94094,     0.94194,     0.94294,     0.94394,     0.94494,     0.94595,     0.94695,     0.94795,     0.94895,     0.94995,     0.95095,     0.95195,     0.95295,     0.95395,     0.95495,     0.95596,     0.95696,     0.95796,     0.95896,     0.95996,\n",
       "           0.96096,     0.96196,     0.96296,     0.96396,     0.96496,     0.96597,     0.96697,     0.96797,     0.96897,     0.96997,     0.97097,     0.97197,     0.97297,     0.97397,     0.97497,     0.97598,     0.97698,     0.97798,     0.97898,     0.97998,     0.98098,     0.98198,     0.98298,     0.98398,\n",
       "           0.98498,     0.98599,     0.98699,     0.98799,     0.98899,     0.98999,     0.99099,     0.99199,     0.99299,     0.99399,     0.99499,       0.996,       0.997,       0.998,       0.999,           1]), array([[          1,           1,           1,           1,           1,           1,           1,           1,           1,           1,           1,           1,           1,           1,           1,           1,           1,           1,           1,           1,           1,           1,           1,\n",
       "                  1,           1,           1,           1,           1,           1,           1,           1,           1,           1,           1,           1,           1,           1,           1,           1,           1,           1,           1,           1,           1,           1,           1,\n",
       "                  1,           1,           1,           1,           1,           1,           1,           1,           1,           1,           1,           1,           1,           1,           1,           1,           1,           1,           1,           1,           1,           1,           1,\n",
       "                  1,           1,           1,           1,           1,           1,           1,           1,           1,           1,           1,           1,           1,           1,           1,           1,           1,           1,           1,           1,           1,           1,           1,\n",
       "                  1,           1,           1,           1,           1,           1,           1,           1,           1,           1,           1,           1,           1,           1,           1,           1,           1,           1,           1,           1,           1,           1,           1,\n",
       "                  1,           1,           1,           1,           1,           1,           1,           1,           1,           1,           1,           1,           1,           1,           1,           1,           1,           1,           1,           1,           1,           1,           1,\n",
       "                  1,           1,           1,           1,           1,           1,           1,           1,           1,           1,           1,           1,           1,           1,           1,           1,           1,           1,           1,           1,           1,           1,           1,\n",
       "                  1,           1,           1,           1,           1,           1,           1,           1,           1,           1,           1,           1,           1,           1,           1,           1,           1,           1,           1,           1,           1,           1,           1,\n",
       "                  1,           1,           1,           1,           1,           1,           1,           1,           1,           1,           1,           1,           1,           1,           1,           1,           1,           1,           1,           1,           1,           1,           1,\n",
       "                  1,           1,           1,           1,           1,           1,           1,           1,           1,           1,           1,           1,           1,           1,           1,           1,           1,           1,           1,           1,           1,           1,           1,\n",
       "                  1,           1,           1,           1,           1,           1,           1,           1,           1,           1,           1,           1,           1,           1,           1,           1,           1,           1,           1,           1,           1,           1,           1,\n",
       "                  1,           1,           1,           1,           1,           1,           1,           1,           1,           1,           1,           1,           1,           1,           1,           1,           1,           1,           1,           1,           1,           1,           1,\n",
       "                  1,           1,           1,           1,           1,           1,           1,           1,           1,           1,           1,           1,           1,           1,           1,           1,           1,           1,           1,           1,           1,           1,           1,\n",
       "                  1,           1,           1,           1,           1,           1,           1,           1,           1,           1,           1,           1,           1,           1,           1,           1,           1,           1,           1,           1,           1,           1,           1,\n",
       "                  1,           1,           1,           1,           1,           1,           1,           1,           1,           1,           1,           1,           1,           1,           1,           1,           1,           1,           1,           1,           1,           1,           1,\n",
       "                  1,           1,           1,           1,           1,           1,           1,           1,           1,           1,           1,           1,           1,     0.99405,     0.99405,     0.99405,     0.99405,     0.99405,     0.99405,     0.99405,     0.99405,     0.99405,     0.99405,\n",
       "            0.99405,     0.99405,     0.99405,     0.99405,     0.99405,     0.99405,     0.99405,     0.99405,     0.99405,     0.99405,     0.99405,     0.99405,     0.99405,     0.99405,     0.99405,     0.99405,     0.99405,     0.99405,     0.99405,     0.99405,     0.99405,     0.99405,     0.99405,\n",
       "            0.99405,     0.99405,     0.99405,     0.99405,     0.99405,     0.99405,     0.99405,     0.99405,     0.99405,     0.99405,     0.99405,     0.99405,     0.99405,     0.99405,     0.99405,     0.99405,     0.99405,     0.99405,     0.99405,     0.99405,     0.99405,     0.99405,     0.99405,\n",
       "            0.99405,     0.99405,     0.99405,     0.99405,     0.99074,     0.99074,     0.99074,     0.99074,     0.99074,     0.99074,     0.99074,     0.99074,     0.99074,     0.99074,     0.99074,     0.99074,     0.99074,     0.99074,     0.99074,     0.99074,     0.99074,     0.99074,     0.99074,\n",
       "            0.99074,     0.99074,     0.99074,     0.99074,     0.99074,     0.99074,     0.99074,     0.99074,     0.99074,     0.99074,     0.99074,     0.99074,     0.99074,     0.99074,     0.99074,     0.99074,     0.99074,     0.99074,     0.99074,     0.99074,     0.99074,     0.99074,     0.99074,\n",
       "            0.99074,     0.99074,     0.99074,     0.99074,     0.99074,     0.99074,     0.99074,     0.99074,     0.99074,     0.99074,     0.99074,     0.99074,     0.99074,     0.99074,     0.99074,     0.99074,     0.99074,     0.99074,     0.99074,     0.99074,     0.99074,     0.99074,     0.99074,\n",
       "            0.99074,     0.99074,     0.99074,     0.99074,     0.99074,     0.99074,     0.99074,     0.99074,     0.99074,     0.99074,     0.99074,     0.99074,     0.99074,     0.99074,     0.99074,     0.99074,     0.99074,     0.99074,     0.99074,     0.99074,     0.99074,     0.99074,     0.99074,\n",
       "            0.99074,     0.99074,     0.99074,     0.99074,     0.99074,     0.99074,     0.99074,     0.99074,     0.99074,     0.99074,     0.99074,     0.99074,     0.99074,     0.99074,     0.99074,     0.99074,     0.99074,     0.99074,     0.99074,     0.99074,     0.99074,     0.99074,     0.99074,\n",
       "            0.99074,     0.99074,     0.99074,     0.99074,     0.99074,     0.99074,     0.98636,     0.98636,     0.98636,     0.98636,     0.98636,     0.98636,     0.98636,     0.98367,     0.98367,     0.98367,     0.98367,     0.98367,     0.98367,     0.98367,     0.98367,     0.98367,     0.98367,\n",
       "            0.98367,     0.98367,     0.98367,     0.98367,     0.98367,     0.98367,     0.98367,     0.98367,     0.98367,     0.98367,     0.98367,     0.98367,     0.98367,     0.98367,     0.98367,     0.98367,     0.98367,     0.98367,     0.98367,     0.98367,     0.98367,     0.98367,     0.98367,\n",
       "            0.98367,     0.98367,     0.98367,     0.98367,     0.98367,     0.98367,     0.98367,     0.98367,     0.98367,     0.98367,     0.98367,     0.98367,     0.98367,     0.98367,     0.98367,     0.98367,     0.98367,     0.98367,     0.98367,     0.98367,     0.98367,     0.98367,     0.98367,\n",
       "            0.98367,     0.98367,     0.98367,     0.98367,     0.98008,     0.98008,     0.98008,     0.98008,     0.98008,     0.98008,     0.98008,     0.98008,     0.98008,     0.98008,     0.98008,     0.98008,     0.98008,     0.97665,     0.97665,     0.97665,     0.97665,     0.97665,     0.97665,\n",
       "            0.97665,     0.97665,     0.97665,     0.97665,     0.97665,     0.97665,     0.96958,     0.96958,     0.96958,     0.96958,     0.96958,     0.96958,     0.96958,     0.96958,     0.96958,     0.96958,     0.96739,     0.96739,     0.96739,     0.96739,     0.96739,     0.96739,     0.96739,\n",
       "            0.96739,     0.96739,     0.96739,     0.96739,     0.96739,     0.96739,     0.96739,     0.96739,     0.96739,     0.96739,     0.96739,     0.96739,     0.96739,     0.96739,     0.96739,     0.96739,     0.96739,     0.96739,     0.96739,     0.96739,     0.96739,     0.96739,     0.96739,\n",
       "            0.96644,     0.96644,     0.96644,     0.96644,     0.96644,     0.96644,     0.96644,     0.96644,     0.96644,     0.96644,     0.96644,     0.96644,     0.96644,     0.96644,     0.96644,     0.96644,     0.96644,     0.96644,     0.96644,     0.96644,     0.96644,     0.96644,     0.96644,\n",
       "            0.96644,     0.96644,     0.96644,     0.96644,     0.96644,     0.96644,     0.96644,     0.96644,     0.96644,     0.96644,     0.96644,     0.96644,     0.96644,     0.96644,     0.96644,     0.96644,     0.96644,     0.96644,     0.96644,     0.96644,     0.96644,     0.96644,     0.96644,\n",
       "            0.96644,     0.96644,     0.96644,     0.96644,     0.96644,     0.96644,     0.96644,     0.96333,     0.96333,     0.95806,     0.95806,     0.95806,     0.95806,     0.95806,     0.95806,     0.95806,     0.95806,     0.95806,     0.95806,     0.95806,     0.95806,     0.95806,     0.95806,\n",
       "            0.95806,     0.95806,     0.95806,     0.95806,     0.95806,     0.95806,     0.95556,     0.95556,     0.95556,     0.95556,     0.95556,     0.95556,     0.95556,     0.95556,     0.95556,     0.95556,     0.95312,     0.95312,     0.95312,     0.95312,     0.95312,     0.95312,     0.95312,\n",
       "            0.95312,     0.95312,     0.95312,     0.95062,     0.95062,     0.95062,     0.95062,     0.95062,     0.95062,     0.95062,     0.95062,     0.94833,     0.94833,     0.94833,     0.94833,     0.94833,     0.94833,     0.94833,     0.94833,     0.94833,     0.94833,     0.94461,     0.94461,\n",
       "            0.94461,     0.94461,     0.94461,     0.94461,     0.94461,     0.94461,     0.94461,     0.94461,     0.94461,     0.94461,     0.94461,     0.94461,     0.94461,     0.94461,     0.94461,     0.94461,     0.94461,     0.94461,     0.94461,     0.94461,     0.94461,     0.94461,     0.94461,\n",
       "            0.94461,     0.94461,     0.94461,     0.94461,     0.94461,     0.94302,     0.94302,     0.94302,     0.94302,     0.94302,     0.94302,     0.94302,     0.94302,     0.94302,     0.94302,     0.94302,     0.94302,     0.94302,     0.94302,     0.94302,     0.94302,     0.94302,     0.94051,\n",
       "            0.94051,     0.94051,      0.9382,      0.9382,      0.9382,      0.9382,      0.9382,     0.93611,     0.93611,     0.93611,     0.93611,     0.93611,     0.93611,     0.93611,     0.92623,     0.92623,     0.92623,     0.92623,     0.92623,     0.92412,     0.92412,     0.92412,     0.92412,\n",
       "            0.92412,     0.92287,     0.92287,     0.92287,     0.92287,     0.92287,     0.92287,     0.92287,     0.92287,     0.92287,     0.92287,     0.92287,     0.92287,     0.92287,     0.92287,     0.92287,     0.91667,     0.91667,     0.91667,     0.91667,     0.91667,     0.91667,     0.91667,\n",
       "            0.91667,     0.91667,     0.91667,     0.91667,     0.91667,     0.91667,     0.91451,     0.91451,     0.90355,     0.90355,     0.90355,     0.90355,     0.90355,     0.90355,     0.90355,     0.90355,     0.90176,     0.90176,     0.90176,     0.90176,     0.90176,     0.89552,     0.89552,\n",
       "            0.89552,     0.89552,     0.89552,     0.89409,     0.89409,     0.89409,     0.89409,     0.89409,     0.89409,     0.89409,     0.89024,     0.89024,     0.89024,     0.89024,     0.89024,     0.88835,     0.88835,     0.88835,     0.88647,     0.88647,     0.88462,     0.88462,     0.88462,\n",
       "            0.87234,     0.87234,     0.87209,     0.87209,     0.87209,     0.87209,     0.87209,     0.87209,     0.87209,     0.87209,     0.87209,     0.87209,     0.87209,     0.87209,     0.87209,     0.87209,     0.87209,     0.86836,     0.86836,     0.86836,     0.86468,     0.86468,     0.86301,\n",
       "            0.86301,     0.86301,      0.8441,      0.8441,     0.84071,     0.84071,     0.84071,     0.84026,     0.84026,     0.84026,     0.84026,     0.84026,     0.84026,     0.84026,     0.84026,     0.84026,     0.84026,     0.82833,     0.82833,     0.82833,     0.82833,     0.82833,     0.82378,\n",
       "            0.82378,     0.82378,     0.82378,     0.82378,     0.80705,     0.80705,     0.80287,     0.80287,     0.80287,     0.80287,     0.80287,         0.8,         0.8,         0.8,     0.79878,     0.79878,     0.79477,     0.79477,     0.79477,     0.79477,     0.79477,     0.76448,     0.76448,\n",
       "            0.76448,     0.71532,     0.71532,     0.68385,     0.68385,     0.68385,     0.62934,     0.62934,      0.6135,      0.6135,           0]]), 'Recall', 'Precision'], [array([          0,    0.001001,    0.002002,    0.003003,    0.004004,    0.005005,    0.006006,    0.007007,    0.008008,    0.009009,     0.01001,    0.011011,    0.012012,    0.013013,    0.014014,    0.015015,    0.016016,    0.017017,    0.018018,    0.019019,     0.02002,    0.021021,    0.022022,    0.023023,\n",
       "          0.024024,    0.025025,    0.026026,    0.027027,    0.028028,    0.029029,     0.03003,    0.031031,    0.032032,    0.033033,    0.034034,    0.035035,    0.036036,    0.037037,    0.038038,    0.039039,     0.04004,    0.041041,    0.042042,    0.043043,    0.044044,    0.045045,    0.046046,    0.047047,\n",
       "          0.048048,    0.049049,     0.05005,    0.051051,    0.052052,    0.053053,    0.054054,    0.055055,    0.056056,    0.057057,    0.058058,    0.059059,     0.06006,    0.061061,    0.062062,    0.063063,    0.064064,    0.065065,    0.066066,    0.067067,    0.068068,    0.069069,     0.07007,    0.071071,\n",
       "          0.072072,    0.073073,    0.074074,    0.075075,    0.076076,    0.077077,    0.078078,    0.079079,     0.08008,    0.081081,    0.082082,    0.083083,    0.084084,    0.085085,    0.086086,    0.087087,    0.088088,    0.089089,     0.09009,    0.091091,    0.092092,    0.093093,    0.094094,    0.095095,\n",
       "          0.096096,    0.097097,    0.098098,    0.099099,      0.1001,      0.1011,      0.1021,      0.1031,      0.1041,     0.10511,     0.10611,     0.10711,     0.10811,     0.10911,     0.11011,     0.11111,     0.11211,     0.11311,     0.11411,     0.11512,     0.11612,     0.11712,     0.11812,     0.11912,\n",
       "           0.12012,     0.12112,     0.12212,     0.12312,     0.12412,     0.12513,     0.12613,     0.12713,     0.12813,     0.12913,     0.13013,     0.13113,     0.13213,     0.13313,     0.13413,     0.13514,     0.13614,     0.13714,     0.13814,     0.13914,     0.14014,     0.14114,     0.14214,     0.14314,\n",
       "           0.14414,     0.14515,     0.14615,     0.14715,     0.14815,     0.14915,     0.15015,     0.15115,     0.15215,     0.15315,     0.15415,     0.15516,     0.15616,     0.15716,     0.15816,     0.15916,     0.16016,     0.16116,     0.16216,     0.16316,     0.16416,     0.16517,     0.16617,     0.16717,\n",
       "           0.16817,     0.16917,     0.17017,     0.17117,     0.17217,     0.17317,     0.17417,     0.17518,     0.17618,     0.17718,     0.17818,     0.17918,     0.18018,     0.18118,     0.18218,     0.18318,     0.18418,     0.18519,     0.18619,     0.18719,     0.18819,     0.18919,     0.19019,     0.19119,\n",
       "           0.19219,     0.19319,     0.19419,      0.1952,      0.1962,      0.1972,      0.1982,      0.1992,      0.2002,      0.2012,      0.2022,      0.2032,      0.2042,     0.20521,     0.20621,     0.20721,     0.20821,     0.20921,     0.21021,     0.21121,     0.21221,     0.21321,     0.21421,     0.21522,\n",
       "           0.21622,     0.21722,     0.21822,     0.21922,     0.22022,     0.22122,     0.22222,     0.22322,     0.22422,     0.22523,     0.22623,     0.22723,     0.22823,     0.22923,     0.23023,     0.23123,     0.23223,     0.23323,     0.23423,     0.23524,     0.23624,     0.23724,     0.23824,     0.23924,\n",
       "           0.24024,     0.24124,     0.24224,     0.24324,     0.24424,     0.24525,     0.24625,     0.24725,     0.24825,     0.24925,     0.25025,     0.25125,     0.25225,     0.25325,     0.25425,     0.25526,     0.25626,     0.25726,     0.25826,     0.25926,     0.26026,     0.26126,     0.26226,     0.26326,\n",
       "           0.26426,     0.26527,     0.26627,     0.26727,     0.26827,     0.26927,     0.27027,     0.27127,     0.27227,     0.27327,     0.27427,     0.27528,     0.27628,     0.27728,     0.27828,     0.27928,     0.28028,     0.28128,     0.28228,     0.28328,     0.28428,     0.28529,     0.28629,     0.28729,\n",
       "           0.28829,     0.28929,     0.29029,     0.29129,     0.29229,     0.29329,     0.29429,      0.2953,      0.2963,      0.2973,      0.2983,      0.2993,      0.3003,      0.3013,      0.3023,      0.3033,      0.3043,     0.30531,     0.30631,     0.30731,     0.30831,     0.30931,     0.31031,     0.31131,\n",
       "           0.31231,     0.31331,     0.31431,     0.31532,     0.31632,     0.31732,     0.31832,     0.31932,     0.32032,     0.32132,     0.32232,     0.32332,     0.32432,     0.32533,     0.32633,     0.32733,     0.32833,     0.32933,     0.33033,     0.33133,     0.33233,     0.33333,     0.33433,     0.33534,\n",
       "           0.33634,     0.33734,     0.33834,     0.33934,     0.34034,     0.34134,     0.34234,     0.34334,     0.34434,     0.34535,     0.34635,     0.34735,     0.34835,     0.34935,     0.35035,     0.35135,     0.35235,     0.35335,     0.35435,     0.35536,     0.35636,     0.35736,     0.35836,     0.35936,\n",
       "           0.36036,     0.36136,     0.36236,     0.36336,     0.36436,     0.36537,     0.36637,     0.36737,     0.36837,     0.36937,     0.37037,     0.37137,     0.37237,     0.37337,     0.37437,     0.37538,     0.37638,     0.37738,     0.37838,     0.37938,     0.38038,     0.38138,     0.38238,     0.38338,\n",
       "           0.38438,     0.38539,     0.38639,     0.38739,     0.38839,     0.38939,     0.39039,     0.39139,     0.39239,     0.39339,     0.39439,      0.3954,      0.3964,      0.3974,      0.3984,      0.3994,      0.4004,      0.4014,      0.4024,      0.4034,      0.4044,     0.40541,     0.40641,     0.40741,\n",
       "           0.40841,     0.40941,     0.41041,     0.41141,     0.41241,     0.41341,     0.41441,     0.41542,     0.41642,     0.41742,     0.41842,     0.41942,     0.42042,     0.42142,     0.42242,     0.42342,     0.42442,     0.42543,     0.42643,     0.42743,     0.42843,     0.42943,     0.43043,     0.43143,\n",
       "           0.43243,     0.43343,     0.43443,     0.43544,     0.43644,     0.43744,     0.43844,     0.43944,     0.44044,     0.44144,     0.44244,     0.44344,     0.44444,     0.44545,     0.44645,     0.44745,     0.44845,     0.44945,     0.45045,     0.45145,     0.45245,     0.45345,     0.45445,     0.45546,\n",
       "           0.45646,     0.45746,     0.45846,     0.45946,     0.46046,     0.46146,     0.46246,     0.46346,     0.46446,     0.46547,     0.46647,     0.46747,     0.46847,     0.46947,     0.47047,     0.47147,     0.47247,     0.47347,     0.47447,     0.47548,     0.47648,     0.47748,     0.47848,     0.47948,\n",
       "           0.48048,     0.48148,     0.48248,     0.48348,     0.48448,     0.48549,     0.48649,     0.48749,     0.48849,     0.48949,     0.49049,     0.49149,     0.49249,     0.49349,     0.49449,      0.4955,      0.4965,      0.4975,      0.4985,      0.4995,      0.5005,      0.5015,      0.5025,      0.5035,\n",
       "            0.5045,     0.50551,     0.50651,     0.50751,     0.50851,     0.50951,     0.51051,     0.51151,     0.51251,     0.51351,     0.51451,     0.51552,     0.51652,     0.51752,     0.51852,     0.51952,     0.52052,     0.52152,     0.52252,     0.52352,     0.52452,     0.52553,     0.52653,     0.52753,\n",
       "           0.52853,     0.52953,     0.53053,     0.53153,     0.53253,     0.53353,     0.53453,     0.53554,     0.53654,     0.53754,     0.53854,     0.53954,     0.54054,     0.54154,     0.54254,     0.54354,     0.54454,     0.54555,     0.54655,     0.54755,     0.54855,     0.54955,     0.55055,     0.55155,\n",
       "           0.55255,     0.55355,     0.55455,     0.55556,     0.55656,     0.55756,     0.55856,     0.55956,     0.56056,     0.56156,     0.56256,     0.56356,     0.56456,     0.56557,     0.56657,     0.56757,     0.56857,     0.56957,     0.57057,     0.57157,     0.57257,     0.57357,     0.57457,     0.57558,\n",
       "           0.57658,     0.57758,     0.57858,     0.57958,     0.58058,     0.58158,     0.58258,     0.58358,     0.58458,     0.58559,     0.58659,     0.58759,     0.58859,     0.58959,     0.59059,     0.59159,     0.59259,     0.59359,     0.59459,      0.5956,      0.5966,      0.5976,      0.5986,      0.5996,\n",
       "            0.6006,      0.6016,      0.6026,      0.6036,      0.6046,     0.60561,     0.60661,     0.60761,     0.60861,     0.60961,     0.61061,     0.61161,     0.61261,     0.61361,     0.61461,     0.61562,     0.61662,     0.61762,     0.61862,     0.61962,     0.62062,     0.62162,     0.62262,     0.62362,\n",
       "           0.62462,     0.62563,     0.62663,     0.62763,     0.62863,     0.62963,     0.63063,     0.63163,     0.63263,     0.63363,     0.63463,     0.63564,     0.63664,     0.63764,     0.63864,     0.63964,     0.64064,     0.64164,     0.64264,     0.64364,     0.64464,     0.64565,     0.64665,     0.64765,\n",
       "           0.64865,     0.64965,     0.65065,     0.65165,     0.65265,     0.65365,     0.65465,     0.65566,     0.65666,     0.65766,     0.65866,     0.65966,     0.66066,     0.66166,     0.66266,     0.66366,     0.66466,     0.66567,     0.66667,     0.66767,     0.66867,     0.66967,     0.67067,     0.67167,\n",
       "           0.67267,     0.67367,     0.67467,     0.67568,     0.67668,     0.67768,     0.67868,     0.67968,     0.68068,     0.68168,     0.68268,     0.68368,     0.68468,     0.68569,     0.68669,     0.68769,     0.68869,     0.68969,     0.69069,     0.69169,     0.69269,     0.69369,     0.69469,      0.6957,\n",
       "            0.6967,      0.6977,      0.6987,      0.6997,      0.7007,      0.7017,      0.7027,      0.7037,      0.7047,     0.70571,     0.70671,     0.70771,     0.70871,     0.70971,     0.71071,     0.71171,     0.71271,     0.71371,     0.71471,     0.71572,     0.71672,     0.71772,     0.71872,     0.71972,\n",
       "           0.72072,     0.72172,     0.72272,     0.72372,     0.72472,     0.72573,     0.72673,     0.72773,     0.72873,     0.72973,     0.73073,     0.73173,     0.73273,     0.73373,     0.73473,     0.73574,     0.73674,     0.73774,     0.73874,     0.73974,     0.74074,     0.74174,     0.74274,     0.74374,\n",
       "           0.74474,     0.74575,     0.74675,     0.74775,     0.74875,     0.74975,     0.75075,     0.75175,     0.75275,     0.75375,     0.75475,     0.75576,     0.75676,     0.75776,     0.75876,     0.75976,     0.76076,     0.76176,     0.76276,     0.76376,     0.76476,     0.76577,     0.76677,     0.76777,\n",
       "           0.76877,     0.76977,     0.77077,     0.77177,     0.77277,     0.77377,     0.77477,     0.77578,     0.77678,     0.77778,     0.77878,     0.77978,     0.78078,     0.78178,     0.78278,     0.78378,     0.78478,     0.78579,     0.78679,     0.78779,     0.78879,     0.78979,     0.79079,     0.79179,\n",
       "           0.79279,     0.79379,     0.79479,      0.7958,      0.7968,      0.7978,      0.7988,      0.7998,      0.8008,      0.8018,      0.8028,      0.8038,      0.8048,     0.80581,     0.80681,     0.80781,     0.80881,     0.80981,     0.81081,     0.81181,     0.81281,     0.81381,     0.81481,     0.81582,\n",
       "           0.81682,     0.81782,     0.81882,     0.81982,     0.82082,     0.82182,     0.82282,     0.82382,     0.82482,     0.82583,     0.82683,     0.82783,     0.82883,     0.82983,     0.83083,     0.83183,     0.83283,     0.83383,     0.83483,     0.83584,     0.83684,     0.83784,     0.83884,     0.83984,\n",
       "           0.84084,     0.84184,     0.84284,     0.84384,     0.84484,     0.84585,     0.84685,     0.84785,     0.84885,     0.84985,     0.85085,     0.85185,     0.85285,     0.85385,     0.85485,     0.85586,     0.85686,     0.85786,     0.85886,     0.85986,     0.86086,     0.86186,     0.86286,     0.86386,\n",
       "           0.86486,     0.86587,     0.86687,     0.86787,     0.86887,     0.86987,     0.87087,     0.87187,     0.87287,     0.87387,     0.87487,     0.87588,     0.87688,     0.87788,     0.87888,     0.87988,     0.88088,     0.88188,     0.88288,     0.88388,     0.88488,     0.88589,     0.88689,     0.88789,\n",
       "           0.88889,     0.88989,     0.89089,     0.89189,     0.89289,     0.89389,     0.89489,      0.8959,      0.8969,      0.8979,      0.8989,      0.8999,      0.9009,      0.9019,      0.9029,      0.9039,      0.9049,     0.90591,     0.90691,     0.90791,     0.90891,     0.90991,     0.91091,     0.91191,\n",
       "           0.91291,     0.91391,     0.91491,     0.91592,     0.91692,     0.91792,     0.91892,     0.91992,     0.92092,     0.92192,     0.92292,     0.92392,     0.92492,     0.92593,     0.92693,     0.92793,     0.92893,     0.92993,     0.93093,     0.93193,     0.93293,     0.93393,     0.93493,     0.93594,\n",
       "           0.93694,     0.93794,     0.93894,     0.93994,     0.94094,     0.94194,     0.94294,     0.94394,     0.94494,     0.94595,     0.94695,     0.94795,     0.94895,     0.94995,     0.95095,     0.95195,     0.95295,     0.95395,     0.95495,     0.95596,     0.95696,     0.95796,     0.95896,     0.95996,\n",
       "           0.96096,     0.96196,     0.96296,     0.96396,     0.96496,     0.96597,     0.96697,     0.96797,     0.96897,     0.96997,     0.97097,     0.97197,     0.97297,     0.97397,     0.97497,     0.97598,     0.97698,     0.97798,     0.97898,     0.97998,     0.98098,     0.98198,     0.98298,     0.98398,\n",
       "           0.98498,     0.98599,     0.98699,     0.98799,     0.98899,     0.98999,     0.99099,     0.99199,     0.99299,     0.99399,     0.99499,       0.996,       0.997,       0.998,       0.999,           1]), array([[    0.13115,     0.13115,     0.13115,     0.13115,     0.13849,     0.14974,     0.16296,     0.18025,     0.20592,     0.24126,     0.28706,     0.34027,      0.3978,     0.45311,     0.49932,     0.53695,     0.56765,     0.59224,     0.60997,     0.62661,     0.64467,      0.6629,     0.68002,\n",
       "            0.68902,     0.70125,     0.71302,     0.71867,     0.72719,     0.73826,     0.74638,     0.75416,      0.7603,     0.76333,     0.77123,     0.77687,     0.78272,     0.78805,     0.79414,     0.79869,     0.79997,     0.80494,     0.80695,     0.80976,     0.81236,     0.81701,     0.81771,\n",
       "            0.82155,     0.82334,     0.82499,     0.82914,     0.83098,      0.8341,     0.83556,     0.83732,     0.83765,     0.83798,     0.84079,     0.84148,      0.8431,     0.84629,     0.85104,      0.8524,     0.85589,      0.8576,     0.85839,     0.85907,     0.85999,     0.86182,     0.86213,\n",
       "            0.86243,     0.86274,     0.86241,     0.86206,     0.86172,     0.86325,     0.86531,     0.86558,     0.86586,     0.86613,     0.86671,     0.86847,      0.8707,     0.87319,      0.8751,     0.87805,     0.88061,     0.87948,       0.879,     0.87852,     0.87955,     0.88113,     0.88079,\n",
       "            0.88046,     0.88012,     0.88002,      0.8803,     0.88058,     0.88086,     0.88077,     0.88148,     0.87982,     0.88058,     0.88165,     0.88143,     0.88089,      0.8813,     0.88171,     0.88324,     0.88385,     0.88498,     0.88532,     0.88567,     0.88652,     0.88753,     0.88812,\n",
       "            0.88852,     0.88894,     0.88974,     0.89015,     0.88866,     0.88996,     0.89056,     0.89099,     0.89142,     0.88957,     0.89084,     0.89147,     0.89208,     0.89301,     0.89446,     0.89509,     0.89578,     0.89441,     0.89342,     0.89293,     0.89244,     0.89208,     0.89179,\n",
       "             0.8915,     0.89121,     0.89102,     0.89126,     0.89151,     0.89176,     0.89201,     0.89185,     0.89168,     0.89151,     0.89134,     0.89117,       0.891,     0.89083,     0.89141,     0.89227,     0.89279,     0.89258,     0.89237,     0.89216,     0.89195,     0.89173,     0.89152,\n",
       "            0.89255,     0.89382,     0.89421,     0.89461,     0.89595,     0.89649,     0.89697,     0.89737,     0.89776,     0.89823,     0.89872,     0.90016,      0.9009,     0.90203,     0.90121,     0.90089,     0.90098,     0.90107,     0.90115,     0.90124,     0.90133,     0.90141,      0.9015,\n",
       "            0.90159,     0.90167,     0.90176,     0.90185,     0.90181,     0.90135,     0.90089,     0.90087,      0.9016,     0.90178,      0.9019,     0.90201,     0.90213,     0.90225,     0.90236,     0.90248,      0.9026,     0.90271,     0.90266,     0.90247,     0.90229,     0.90211,     0.90193,\n",
       "            0.90174,     0.90156,     0.90177,     0.90269,     0.90351,     0.90269,     0.90198,     0.90148,     0.90098,     0.90071,     0.90044,     0.90018,     0.89991,     0.89964,     0.89888,     0.89826,      0.8981,     0.89794,     0.89777,     0.89761,     0.89744,     0.89728,     0.89712,\n",
       "            0.89691,     0.89635,     0.89579,     0.89596,     0.89642,     0.89652,     0.89594,     0.89538,     0.89556,     0.89575,     0.89593,     0.89611,      0.8963,     0.89649,     0.89676,     0.89703,     0.89729,     0.89756,     0.89802,     0.89847,     0.89987,     0.90012,     0.90038,\n",
       "            0.90064,     0.90068,     0.90157,     0.90131,     0.90105,     0.90078,     0.90052,     0.90043,     0.90056,     0.90069,     0.90083,     0.90096,     0.90109,     0.90123,     0.90136,     0.90139,     0.90057,     0.90115,     0.90099,     0.90073,     0.90048,     0.90022,     0.89996,\n",
       "            0.89961,     0.89921,     0.89881,     0.89855,     0.89869,     0.89883,     0.89897,      0.8991,     0.89924,     0.89938,     0.89952,     0.89967,     0.89991,     0.90016,      0.9004,     0.90064,     0.89938,     0.89777,     0.89752,     0.89727,     0.89703,     0.89678,      0.8974,\n",
       "            0.89745,     0.89707,      0.8967,     0.89596,     0.89523,      0.8956,     0.89597,     0.89659,     0.89725,     0.89731,     0.89737,     0.89744,      0.8975,     0.89756,     0.89762,     0.89768,     0.89774,      0.8978,     0.89786,     0.89792,     0.89798,     0.89804,      0.8981,\n",
       "            0.89816,     0.89822,     0.89828,     0.89834,     0.89787,     0.89703,     0.89679,     0.89659,     0.89639,     0.89619,     0.89599,     0.89579,     0.89563,     0.89606,     0.89649,     0.89651,     0.89603,     0.89555,     0.89479,     0.89392,     0.89378,     0.89365,     0.89352,\n",
       "            0.89338,     0.89325,     0.89312,     0.89298,     0.89285,     0.89272,     0.89258,     0.89283,     0.89325,     0.89366,     0.89491,     0.89503,     0.89514,     0.89526,     0.89538,     0.89549,     0.89561,     0.89572,     0.89584,       0.896,     0.89645,      0.8969,     0.89783,\n",
       "            0.89683,       0.897,     0.89719,     0.89739,     0.89758,     0.89777,     0.89796,     0.89628,     0.89594,     0.89561,     0.89528,     0.89359,     0.89291,     0.89225,     0.89172,     0.89118,     0.89112,     0.89165,      0.8921,     0.89234,     0.89259,     0.89283,     0.89307,\n",
       "            0.89391,     0.89275,      0.8924,     0.89204,     0.89168,     0.89109,     0.89018,     0.88976,     0.88943,      0.8891,     0.88878,     0.88803,     0.88602,     0.88579,     0.88587,     0.88594,     0.88602,      0.8861,     0.88618,     0.88626,     0.88634,     0.88641,     0.88649,\n",
       "            0.88657,     0.88665,     0.88673,      0.8868,     0.88677,     0.88633,     0.88589,     0.88545,     0.88532,     0.88521,      0.8851,     0.88499,     0.88488,     0.88477,     0.88467,     0.88456,     0.88445,     0.88434,     0.88423,     0.88412,     0.88401,     0.88421,     0.88469,\n",
       "            0.88508,     0.88464,     0.88421,     0.88378,     0.88308,     0.88228,     0.88231,     0.88244,     0.88256,     0.88269,     0.88281,     0.88294,     0.88307,     0.88319,     0.88332,     0.88386,     0.88458,     0.88524,     0.88589,     0.88649,     0.88655,     0.88587,     0.88505,\n",
       "            0.88388,     0.88249,     0.88265,      0.8828,     0.88296,     0.88312,     0.88327,     0.88343,     0.88358,     0.88337,     0.88312,     0.88287,     0.88262,     0.88237,     0.88212,     0.88195,     0.88179,     0.88163,     0.88146,      0.8813,     0.88114,     0.88097,     0.88081,\n",
       "            0.88064,     0.88137,     0.88129,     0.88039,     0.88073,     0.88107,     0.88141,     0.88116,     0.88072,     0.88027,     0.87976,     0.87911,     0.87843,     0.87731,     0.87664,     0.87613,     0.87563,     0.87361,       0.873,     0.87103,     0.87145,     0.87188,     0.87185,\n",
       "            0.87107,     0.86965,     0.86843,     0.86756,     0.86668,     0.86548,     0.86366,     0.86289,     0.86277,     0.86265,     0.86254,     0.86242,      0.8623,     0.86218,     0.86206,     0.86195,     0.86183,     0.86171,     0.86159,     0.86147,     0.86085,     0.85953,     0.85798,\n",
       "            0.85733,     0.85661,     0.85519,     0.85383,     0.85421,     0.85459,     0.85559,     0.85544,     0.85477,     0.85428,     0.85403,     0.85378,     0.85352,     0.85327,     0.85302,     0.85109,     0.85001,     0.84985,     0.85015,     0.85045,     0.85075,     0.85064,     0.85038,\n",
       "            0.85013,     0.84987,     0.84961,     0.84935,     0.84615,     0.84699,     0.84553,     0.84396,     0.84337,     0.84278,     0.84082,       0.841,     0.84118,     0.84136,     0.84155,     0.84173,     0.84191,     0.84131,     0.84042,      0.8398,      0.8392,     0.83853,     0.83749,\n",
       "            0.83579,     0.83574,      0.8361,     0.83646,     0.83477,     0.83412,     0.83347,     0.83273,     0.83196,     0.83115,      0.8303,     0.82953,     0.82881,     0.82659,     0.82605,      0.8255,     0.82473,     0.82556,     0.82477,      0.8241,     0.82498,     0.82313,      0.8223,\n",
       "             0.8217,     0.82139,     0.82108,     0.82077,     0.82046,     0.82015,     0.81761,     0.81525,     0.81171,     0.80953,     0.80907,     0.80861,     0.80815,     0.80517,     0.80425,     0.80359,     0.80293,     0.80023,     0.79909,     0.79825,     0.79739,     0.79647,     0.79553,\n",
       "            0.79457,     0.79354,     0.79243,     0.79188,     0.79137,     0.79087,     0.79022,     0.78934,     0.78924,     0.78917,     0.78762,     0.78631,     0.78532,     0.78345,     0.78171,     0.78069,     0.77999,      0.7793,     0.77762,     0.77398,     0.77312,     0.77258,     0.77205,\n",
       "             0.7712,     0.77002,     0.76833,     0.76905,      0.7681,     0.76356,     0.76271,     0.76185,     0.76293,     0.76332,     0.76371,     0.76406,     0.76378,      0.7635,     0.76322,     0.76294,     0.76267,     0.76239,     0.76182,     0.76065,     0.75811,     0.75765,      0.7572,\n",
       "            0.75674,     0.75546,     0.75479,     0.75511,     0.75542,     0.75573,     0.75369,     0.75263,     0.74946,     0.74624,     0.74696,      0.7446,     0.74137,     0.73937,     0.73915,     0.73893,     0.73871,     0.73849,     0.73827,     0.73805,     0.73783,     0.73761,     0.73706,\n",
       "            0.73618,     0.73459,       0.733,     0.73223,     0.73125,      0.7294,     0.72883,     0.72826,     0.72768,     0.72666,     0.72552,     0.72464,     0.72376,     0.72228,     0.72064,     0.71905,     0.71743,     0.71502,      0.7099,     0.70844,     0.70758,     0.70647,     0.70513,\n",
       "            0.70163,     0.69919,     0.69988,     0.69958,     0.69907,     0.69856,     0.69805,     0.69473,     0.69399,     0.69324,     0.69153,     0.68779,     0.68626,     0.68461,      0.6831,     0.67731,     0.67501,     0.67297,     0.67152,     0.67048,     0.66963,     0.66822,     0.66601,\n",
       "            0.66509,     0.66153,     0.65867,     0.65482,     0.65321,     0.65258,     0.65195,     0.65132,     0.64641,     0.64602,     0.64563,     0.64525,     0.64486,     0.64447,     0.64332,     0.63865,     0.63706,     0.63632,     0.63557,     0.63431,     0.63085,     0.62947,     0.62848,\n",
       "            0.62538,       0.623,     0.62164,     0.62035,     0.61913,     0.61764,     0.61357,     0.61149,      0.6103,     0.60915,     0.60828,     0.60745,     0.60662,     0.60275,     0.59888,     0.59569,       0.594,     0.59293,     0.59037,     0.58713,     0.58739,     0.58764,      0.5879,\n",
       "            0.58535,     0.58326,     0.58146,     0.57689,     0.56728,     0.56193,      0.5605,      0.5588,     0.55232,     0.55001,     0.54453,     0.54285,     0.54119,     0.53952,      0.5347,     0.53288,     0.53193,     0.53098,     0.52999,     0.52901,     0.52681,     0.52653,     0.52402,\n",
       "            0.51835,     0.51731,     0.51628,     0.51281,     0.51189,     0.51097,     0.50973,     0.50744,     0.50682,     0.50619,     0.50557,     0.50495,     0.50273,     0.49811,     0.49668,     0.49082,     0.48849,     0.48678,      0.4853,      0.4806,     0.47814,     0.47688,     0.47587,\n",
       "            0.47514,     0.47441,     0.47368,     0.47181,     0.46706,     0.46368,     0.46221,     0.46092,     0.45978,     0.45864,     0.45611,     0.44584,      0.4424,     0.44054,     0.43876,     0.43686,     0.43468,     0.43104,     0.42948,     0.42424,     0.42068,     0.41863,     0.41767,\n",
       "            0.41671,     0.41563,     0.41338,     0.41078,     0.40829,     0.40532,     0.39955,     0.39643,     0.39323,     0.39128,      0.3896,     0.38816,     0.38624,     0.38334,     0.38148,      0.3794,     0.37723,     0.37651,      0.3758,     0.37508,     0.37436,     0.37345,     0.37233,\n",
       "            0.37121,     0.36873,     0.36015,     0.35843,     0.35631,     0.35036,     0.34929,     0.34823,     0.34716,     0.33955,     0.33778,     0.33556,     0.33156,     0.32744,     0.32048,     0.31669,      0.3148,     0.31347,     0.31195,     0.30846,     0.30514,     0.29947,     0.29675,\n",
       "              0.294,      0.2926,     0.29121,     0.28591,     0.28397,       0.276,     0.26733,     0.26047,     0.25957,     0.25868,     0.25778,     0.25653,     0.25412,     0.25226,     0.25069,     0.24864,     0.24536,     0.24409,     0.24282,     0.23944,     0.23325,     0.23026,     0.22608,\n",
       "             0.2179,     0.21519,     0.20701,     0.20089,     0.19496,     0.19166,     0.18506,     0.18303,     0.18055,     0.17749,     0.17539,     0.17197,     0.16583,     0.15957,     0.15186,     0.14743,     0.14489,     0.14189,     0.13464,     0.12633,     0.12459,     0.12284,     0.11701,\n",
       "            0.11306,     0.11118,     0.10929,     0.10721,     0.10504,     0.10036,    0.090041,    0.087871,    0.083823,    0.076095,    0.071389,    0.067458,    0.066637,    0.065815,    0.064992,    0.064168,    0.063344,    0.057183,     0.05309,    0.052005,    0.050919,    0.049832,    0.048406,\n",
       "           0.042662,    0.040449,     0.03171,     0.02913,    0.028497,    0.027864,    0.027231,    0.026597,    0.025963,    0.025328,    0.024693,    0.016915,    0.013865,    0.011942,    0.010015,           0,           0,           0,           0,           0,           0,           0,           0,\n",
       "                  0,           0,           0,           0,           0,           0,           0,           0,           0,           0,           0]]), 'Confidence', 'F1'], [array([          0,    0.001001,    0.002002,    0.003003,    0.004004,    0.005005,    0.006006,    0.007007,    0.008008,    0.009009,     0.01001,    0.011011,    0.012012,    0.013013,    0.014014,    0.015015,    0.016016,    0.017017,    0.018018,    0.019019,     0.02002,    0.021021,    0.022022,    0.023023,\n",
       "          0.024024,    0.025025,    0.026026,    0.027027,    0.028028,    0.029029,     0.03003,    0.031031,    0.032032,    0.033033,    0.034034,    0.035035,    0.036036,    0.037037,    0.038038,    0.039039,     0.04004,    0.041041,    0.042042,    0.043043,    0.044044,    0.045045,    0.046046,    0.047047,\n",
       "          0.048048,    0.049049,     0.05005,    0.051051,    0.052052,    0.053053,    0.054054,    0.055055,    0.056056,    0.057057,    0.058058,    0.059059,     0.06006,    0.061061,    0.062062,    0.063063,    0.064064,    0.065065,    0.066066,    0.067067,    0.068068,    0.069069,     0.07007,    0.071071,\n",
       "          0.072072,    0.073073,    0.074074,    0.075075,    0.076076,    0.077077,    0.078078,    0.079079,     0.08008,    0.081081,    0.082082,    0.083083,    0.084084,    0.085085,    0.086086,    0.087087,    0.088088,    0.089089,     0.09009,    0.091091,    0.092092,    0.093093,    0.094094,    0.095095,\n",
       "          0.096096,    0.097097,    0.098098,    0.099099,      0.1001,      0.1011,      0.1021,      0.1031,      0.1041,     0.10511,     0.10611,     0.10711,     0.10811,     0.10911,     0.11011,     0.11111,     0.11211,     0.11311,     0.11411,     0.11512,     0.11612,     0.11712,     0.11812,     0.11912,\n",
       "           0.12012,     0.12112,     0.12212,     0.12312,     0.12412,     0.12513,     0.12613,     0.12713,     0.12813,     0.12913,     0.13013,     0.13113,     0.13213,     0.13313,     0.13413,     0.13514,     0.13614,     0.13714,     0.13814,     0.13914,     0.14014,     0.14114,     0.14214,     0.14314,\n",
       "           0.14414,     0.14515,     0.14615,     0.14715,     0.14815,     0.14915,     0.15015,     0.15115,     0.15215,     0.15315,     0.15415,     0.15516,     0.15616,     0.15716,     0.15816,     0.15916,     0.16016,     0.16116,     0.16216,     0.16316,     0.16416,     0.16517,     0.16617,     0.16717,\n",
       "           0.16817,     0.16917,     0.17017,     0.17117,     0.17217,     0.17317,     0.17417,     0.17518,     0.17618,     0.17718,     0.17818,     0.17918,     0.18018,     0.18118,     0.18218,     0.18318,     0.18418,     0.18519,     0.18619,     0.18719,     0.18819,     0.18919,     0.19019,     0.19119,\n",
       "           0.19219,     0.19319,     0.19419,      0.1952,      0.1962,      0.1972,      0.1982,      0.1992,      0.2002,      0.2012,      0.2022,      0.2032,      0.2042,     0.20521,     0.20621,     0.20721,     0.20821,     0.20921,     0.21021,     0.21121,     0.21221,     0.21321,     0.21421,     0.21522,\n",
       "           0.21622,     0.21722,     0.21822,     0.21922,     0.22022,     0.22122,     0.22222,     0.22322,     0.22422,     0.22523,     0.22623,     0.22723,     0.22823,     0.22923,     0.23023,     0.23123,     0.23223,     0.23323,     0.23423,     0.23524,     0.23624,     0.23724,     0.23824,     0.23924,\n",
       "           0.24024,     0.24124,     0.24224,     0.24324,     0.24424,     0.24525,     0.24625,     0.24725,     0.24825,     0.24925,     0.25025,     0.25125,     0.25225,     0.25325,     0.25425,     0.25526,     0.25626,     0.25726,     0.25826,     0.25926,     0.26026,     0.26126,     0.26226,     0.26326,\n",
       "           0.26426,     0.26527,     0.26627,     0.26727,     0.26827,     0.26927,     0.27027,     0.27127,     0.27227,     0.27327,     0.27427,     0.27528,     0.27628,     0.27728,     0.27828,     0.27928,     0.28028,     0.28128,     0.28228,     0.28328,     0.28428,     0.28529,     0.28629,     0.28729,\n",
       "           0.28829,     0.28929,     0.29029,     0.29129,     0.29229,     0.29329,     0.29429,      0.2953,      0.2963,      0.2973,      0.2983,      0.2993,      0.3003,      0.3013,      0.3023,      0.3033,      0.3043,     0.30531,     0.30631,     0.30731,     0.30831,     0.30931,     0.31031,     0.31131,\n",
       "           0.31231,     0.31331,     0.31431,     0.31532,     0.31632,     0.31732,     0.31832,     0.31932,     0.32032,     0.32132,     0.32232,     0.32332,     0.32432,     0.32533,     0.32633,     0.32733,     0.32833,     0.32933,     0.33033,     0.33133,     0.33233,     0.33333,     0.33433,     0.33534,\n",
       "           0.33634,     0.33734,     0.33834,     0.33934,     0.34034,     0.34134,     0.34234,     0.34334,     0.34434,     0.34535,     0.34635,     0.34735,     0.34835,     0.34935,     0.35035,     0.35135,     0.35235,     0.35335,     0.35435,     0.35536,     0.35636,     0.35736,     0.35836,     0.35936,\n",
       "           0.36036,     0.36136,     0.36236,     0.36336,     0.36436,     0.36537,     0.36637,     0.36737,     0.36837,     0.36937,     0.37037,     0.37137,     0.37237,     0.37337,     0.37437,     0.37538,     0.37638,     0.37738,     0.37838,     0.37938,     0.38038,     0.38138,     0.38238,     0.38338,\n",
       "           0.38438,     0.38539,     0.38639,     0.38739,     0.38839,     0.38939,     0.39039,     0.39139,     0.39239,     0.39339,     0.39439,      0.3954,      0.3964,      0.3974,      0.3984,      0.3994,      0.4004,      0.4014,      0.4024,      0.4034,      0.4044,     0.40541,     0.40641,     0.40741,\n",
       "           0.40841,     0.40941,     0.41041,     0.41141,     0.41241,     0.41341,     0.41441,     0.41542,     0.41642,     0.41742,     0.41842,     0.41942,     0.42042,     0.42142,     0.42242,     0.42342,     0.42442,     0.42543,     0.42643,     0.42743,     0.42843,     0.42943,     0.43043,     0.43143,\n",
       "           0.43243,     0.43343,     0.43443,     0.43544,     0.43644,     0.43744,     0.43844,     0.43944,     0.44044,     0.44144,     0.44244,     0.44344,     0.44444,     0.44545,     0.44645,     0.44745,     0.44845,     0.44945,     0.45045,     0.45145,     0.45245,     0.45345,     0.45445,     0.45546,\n",
       "           0.45646,     0.45746,     0.45846,     0.45946,     0.46046,     0.46146,     0.46246,     0.46346,     0.46446,     0.46547,     0.46647,     0.46747,     0.46847,     0.46947,     0.47047,     0.47147,     0.47247,     0.47347,     0.47447,     0.47548,     0.47648,     0.47748,     0.47848,     0.47948,\n",
       "           0.48048,     0.48148,     0.48248,     0.48348,     0.48448,     0.48549,     0.48649,     0.48749,     0.48849,     0.48949,     0.49049,     0.49149,     0.49249,     0.49349,     0.49449,      0.4955,      0.4965,      0.4975,      0.4985,      0.4995,      0.5005,      0.5015,      0.5025,      0.5035,\n",
       "            0.5045,     0.50551,     0.50651,     0.50751,     0.50851,     0.50951,     0.51051,     0.51151,     0.51251,     0.51351,     0.51451,     0.51552,     0.51652,     0.51752,     0.51852,     0.51952,     0.52052,     0.52152,     0.52252,     0.52352,     0.52452,     0.52553,     0.52653,     0.52753,\n",
       "           0.52853,     0.52953,     0.53053,     0.53153,     0.53253,     0.53353,     0.53453,     0.53554,     0.53654,     0.53754,     0.53854,     0.53954,     0.54054,     0.54154,     0.54254,     0.54354,     0.54454,     0.54555,     0.54655,     0.54755,     0.54855,     0.54955,     0.55055,     0.55155,\n",
       "           0.55255,     0.55355,     0.55455,     0.55556,     0.55656,     0.55756,     0.55856,     0.55956,     0.56056,     0.56156,     0.56256,     0.56356,     0.56456,     0.56557,     0.56657,     0.56757,     0.56857,     0.56957,     0.57057,     0.57157,     0.57257,     0.57357,     0.57457,     0.57558,\n",
       "           0.57658,     0.57758,     0.57858,     0.57958,     0.58058,     0.58158,     0.58258,     0.58358,     0.58458,     0.58559,     0.58659,     0.58759,     0.58859,     0.58959,     0.59059,     0.59159,     0.59259,     0.59359,     0.59459,      0.5956,      0.5966,      0.5976,      0.5986,      0.5996,\n",
       "            0.6006,      0.6016,      0.6026,      0.6036,      0.6046,     0.60561,     0.60661,     0.60761,     0.60861,     0.60961,     0.61061,     0.61161,     0.61261,     0.61361,     0.61461,     0.61562,     0.61662,     0.61762,     0.61862,     0.61962,     0.62062,     0.62162,     0.62262,     0.62362,\n",
       "           0.62462,     0.62563,     0.62663,     0.62763,     0.62863,     0.62963,     0.63063,     0.63163,     0.63263,     0.63363,     0.63463,     0.63564,     0.63664,     0.63764,     0.63864,     0.63964,     0.64064,     0.64164,     0.64264,     0.64364,     0.64464,     0.64565,     0.64665,     0.64765,\n",
       "           0.64865,     0.64965,     0.65065,     0.65165,     0.65265,     0.65365,     0.65465,     0.65566,     0.65666,     0.65766,     0.65866,     0.65966,     0.66066,     0.66166,     0.66266,     0.66366,     0.66466,     0.66567,     0.66667,     0.66767,     0.66867,     0.66967,     0.67067,     0.67167,\n",
       "           0.67267,     0.67367,     0.67467,     0.67568,     0.67668,     0.67768,     0.67868,     0.67968,     0.68068,     0.68168,     0.68268,     0.68368,     0.68468,     0.68569,     0.68669,     0.68769,     0.68869,     0.68969,     0.69069,     0.69169,     0.69269,     0.69369,     0.69469,      0.6957,\n",
       "            0.6967,      0.6977,      0.6987,      0.6997,      0.7007,      0.7017,      0.7027,      0.7037,      0.7047,     0.70571,     0.70671,     0.70771,     0.70871,     0.70971,     0.71071,     0.71171,     0.71271,     0.71371,     0.71471,     0.71572,     0.71672,     0.71772,     0.71872,     0.71972,\n",
       "           0.72072,     0.72172,     0.72272,     0.72372,     0.72472,     0.72573,     0.72673,     0.72773,     0.72873,     0.72973,     0.73073,     0.73173,     0.73273,     0.73373,     0.73473,     0.73574,     0.73674,     0.73774,     0.73874,     0.73974,     0.74074,     0.74174,     0.74274,     0.74374,\n",
       "           0.74474,     0.74575,     0.74675,     0.74775,     0.74875,     0.74975,     0.75075,     0.75175,     0.75275,     0.75375,     0.75475,     0.75576,     0.75676,     0.75776,     0.75876,     0.75976,     0.76076,     0.76176,     0.76276,     0.76376,     0.76476,     0.76577,     0.76677,     0.76777,\n",
       "           0.76877,     0.76977,     0.77077,     0.77177,     0.77277,     0.77377,     0.77477,     0.77578,     0.77678,     0.77778,     0.77878,     0.77978,     0.78078,     0.78178,     0.78278,     0.78378,     0.78478,     0.78579,     0.78679,     0.78779,     0.78879,     0.78979,     0.79079,     0.79179,\n",
       "           0.79279,     0.79379,     0.79479,      0.7958,      0.7968,      0.7978,      0.7988,      0.7998,      0.8008,      0.8018,      0.8028,      0.8038,      0.8048,     0.80581,     0.80681,     0.80781,     0.80881,     0.80981,     0.81081,     0.81181,     0.81281,     0.81381,     0.81481,     0.81582,\n",
       "           0.81682,     0.81782,     0.81882,     0.81982,     0.82082,     0.82182,     0.82282,     0.82382,     0.82482,     0.82583,     0.82683,     0.82783,     0.82883,     0.82983,     0.83083,     0.83183,     0.83283,     0.83383,     0.83483,     0.83584,     0.83684,     0.83784,     0.83884,     0.83984,\n",
       "           0.84084,     0.84184,     0.84284,     0.84384,     0.84484,     0.84585,     0.84685,     0.84785,     0.84885,     0.84985,     0.85085,     0.85185,     0.85285,     0.85385,     0.85485,     0.85586,     0.85686,     0.85786,     0.85886,     0.85986,     0.86086,     0.86186,     0.86286,     0.86386,\n",
       "           0.86486,     0.86587,     0.86687,     0.86787,     0.86887,     0.86987,     0.87087,     0.87187,     0.87287,     0.87387,     0.87487,     0.87588,     0.87688,     0.87788,     0.87888,     0.87988,     0.88088,     0.88188,     0.88288,     0.88388,     0.88488,     0.88589,     0.88689,     0.88789,\n",
       "           0.88889,     0.88989,     0.89089,     0.89189,     0.89289,     0.89389,     0.89489,      0.8959,      0.8969,      0.8979,      0.8989,      0.8999,      0.9009,      0.9019,      0.9029,      0.9039,      0.9049,     0.90591,     0.90691,     0.90791,     0.90891,     0.90991,     0.91091,     0.91191,\n",
       "           0.91291,     0.91391,     0.91491,     0.91592,     0.91692,     0.91792,     0.91892,     0.91992,     0.92092,     0.92192,     0.92292,     0.92392,     0.92492,     0.92593,     0.92693,     0.92793,     0.92893,     0.92993,     0.93093,     0.93193,     0.93293,     0.93393,     0.93493,     0.93594,\n",
       "           0.93694,     0.93794,     0.93894,     0.93994,     0.94094,     0.94194,     0.94294,     0.94394,     0.94494,     0.94595,     0.94695,     0.94795,     0.94895,     0.94995,     0.95095,     0.95195,     0.95295,     0.95395,     0.95495,     0.95596,     0.95696,     0.95796,     0.95896,     0.95996,\n",
       "           0.96096,     0.96196,     0.96296,     0.96396,     0.96496,     0.96597,     0.96697,     0.96797,     0.96897,     0.96997,     0.97097,     0.97197,     0.97297,     0.97397,     0.97497,     0.97598,     0.97698,     0.97798,     0.97898,     0.97998,     0.98098,     0.98198,     0.98298,     0.98398,\n",
       "           0.98498,     0.98599,     0.98699,     0.98799,     0.98899,     0.98999,     0.99099,     0.99199,     0.99299,     0.99399,     0.99499,       0.996,       0.997,       0.998,       0.999,           1]), array([[   0.070175,    0.070175,    0.070175,    0.070175,    0.074397,     0.08093,    0.088711,    0.099053,     0.11478,     0.13718,     0.16758,     0.20502,     0.24828,     0.29291,     0.33273,       0.367,     0.39631,      0.4207,     0.43881,     0.45626,     0.47565,     0.49578,     0.51518,\n",
       "            0.52558,     0.53995,     0.55402,     0.56088,     0.57133,     0.58511,     0.59538,     0.60534,     0.61423,      0.6182,     0.62863,     0.63718,      0.6451,     0.65236,     0.66075,     0.66707,     0.66886,     0.67585,     0.67869,     0.68384,     0.68757,     0.69425,     0.69526,\n",
       "            0.70084,     0.70344,     0.70585,     0.71196,     0.71597,     0.72062,     0.72281,     0.72544,     0.72594,     0.72644,     0.73067,     0.73172,     0.73416,     0.73901,     0.74629,     0.74839,     0.75378,     0.75643,     0.75767,     0.75873,     0.76016,     0.76302,     0.76351,\n",
       "            0.76399,     0.76447,     0.76435,     0.76423,      0.7641,     0.76677,     0.77003,     0.77046,      0.7709,     0.77134,     0.77225,     0.77505,     0.77861,     0.78259,     0.78568,     0.79045,     0.79473,     0.79436,      0.7942,     0.79404,     0.79613,     0.79877,     0.79866,\n",
       "            0.79855,     0.79844,     0.79855,     0.79901,     0.79947,     0.79993,     0.80145,     0.80283,     0.80328,     0.80454,     0.80633,     0.80685,     0.80678,     0.80747,     0.80815,     0.81073,     0.81175,     0.81366,     0.81424,     0.81483,     0.81627,     0.81799,     0.81898,\n",
       "            0.81966,     0.82038,     0.82174,     0.82355,     0.82352,     0.82575,     0.82679,     0.82752,     0.82826,     0.82778,     0.83098,     0.83208,     0.83313,     0.83475,      0.8373,      0.8384,     0.83961,     0.83979,     0.83952,     0.83939,     0.83925,     0.83915,     0.83908,\n",
       "              0.839,     0.83892,     0.83893,     0.83937,     0.83981,     0.84025,     0.84069,     0.84066,     0.84062,     0.84057,     0.84052,     0.84048,     0.84043,     0.84039,     0.84159,     0.84312,     0.84409,     0.84404,     0.84398,     0.84392,     0.84387,     0.84381,     0.84375,\n",
       "            0.84562,      0.8479,     0.84861,     0.84931,     0.85174,     0.85271,     0.85358,      0.8543,     0.85502,     0.85587,     0.85676,     0.85938,     0.86073,      0.8628,     0.86279,      0.8628,     0.86296,     0.86312,     0.86328,     0.86344,      0.8636,     0.86376,     0.86392,\n",
       "            0.86408,     0.86424,      0.8644,     0.86456,     0.86465,     0.86455,     0.86444,     0.86486,     0.86621,     0.86655,     0.86677,     0.86698,     0.86719,     0.86741,     0.86762,     0.86784,     0.86805,     0.86827,     0.86834,     0.86829,     0.86825,     0.86821,     0.86817,\n",
       "            0.86813,     0.86808,     0.86866,     0.87037,     0.87189,     0.87189,     0.87173,     0.87161,      0.8715,     0.87144,     0.87138,     0.87132,     0.87126,      0.8712,     0.87102,     0.87088,     0.87085,     0.87081,     0.87077,     0.87073,      0.8707,     0.87066,     0.87062,\n",
       "            0.87057,     0.87045,     0.87032,     0.87091,     0.87178,     0.87229,     0.87217,     0.87204,     0.87239,     0.87274,     0.87309,     0.87344,     0.87379,     0.87415,     0.87466,     0.87517,     0.87568,     0.87619,     0.87706,     0.87792,     0.88059,     0.88109,     0.88159,\n",
       "            0.88208,     0.88447,     0.88644,     0.88639,     0.88634,     0.88628,     0.88623,     0.88631,     0.88657,     0.88683,     0.88708,     0.88734,      0.8876,     0.88786,     0.88812,     0.88833,     0.88817,     0.89009,      0.8902,     0.89014,     0.89009,     0.89004,     0.88999,\n",
       "            0.88992,     0.88984,     0.88976,     0.88978,     0.89005,     0.89032,     0.89059,     0.89086,     0.89113,      0.8914,     0.89167,     0.89198,     0.89245,     0.89293,      0.8934,     0.89388,     0.89383,     0.89352,     0.89347,     0.89342,     0.89338,     0.89333,     0.89481,\n",
       "            0.89547,     0.89539,     0.89532,     0.89518,     0.89546,     0.89621,     0.89695,     0.89819,     0.89952,     0.89964,     0.89976,     0.89988,     0.90001,     0.90013,     0.90025,     0.90037,     0.90049,     0.90062,     0.90074,     0.90086,     0.90098,      0.9011,     0.90123,\n",
       "            0.90135,     0.90147,     0.90159,     0.90171,     0.90167,     0.90152,     0.90148,     0.90144,     0.90141,     0.90137,     0.90134,      0.9013,     0.90133,      0.9022,     0.90308,     0.90351,     0.90343,     0.90335,     0.90321,     0.90306,     0.90303,     0.90301,     0.90299,\n",
       "            0.90296,     0.90294,     0.90292,     0.90289,     0.90287,     0.90284,     0.90282,     0.90341,     0.90426,     0.90511,     0.90768,     0.90792,     0.90816,      0.9084,     0.90863,     0.90887,     0.90911,     0.90935,     0.90959,     0.90993,     0.91085,     0.91178,     0.91445,\n",
       "            0.91429,     0.91468,     0.91507,     0.91547,     0.91587,     0.91627,     0.91666,     0.91641,     0.91635,      0.9163,     0.91625,     0.91599,     0.91588,     0.91578,      0.9157,     0.91561,     0.91607,     0.91718,     0.91813,     0.91865,     0.91916,     0.91968,      0.9202,\n",
       "            0.92199,     0.92265,     0.92259,     0.92254,     0.92249,      0.9224,     0.92227,     0.92221,     0.92216,     0.92212,     0.92207,     0.92196,     0.92167,     0.92178,     0.92195,     0.92212,     0.92229,     0.92246,     0.92263,      0.9228,     0.92297,     0.92314,     0.92331,\n",
       "            0.92348,     0.92365,     0.92382,     0.92399,     0.92411,     0.92404,     0.92398,     0.92392,      0.9239,     0.92388,     0.92387,     0.92385,     0.92384,     0.92382,     0.92381,     0.92379,     0.92377,     0.92376,     0.92374,     0.92373,     0.92371,     0.92425,     0.92529,\n",
       "            0.92622,     0.92616,      0.9261,     0.92604,     0.92595,     0.92584,     0.92607,     0.92635,     0.92663,      0.9269,     0.92718,     0.92746,     0.92774,     0.92801,     0.92829,     0.92949,     0.93108,     0.93256,     0.93399,     0.93533,     0.93608,     0.93599,     0.93589,\n",
       "            0.93575,     0.93571,     0.93606,     0.93641,     0.93676,     0.93712,     0.93747,     0.93782,     0.93817,     0.93818,     0.93815,     0.93812,     0.93809,     0.93806,     0.93803,     0.93801,     0.93799,     0.93797,     0.93795,     0.93793,     0.93791,     0.93789,     0.93787,\n",
       "            0.93785,     0.93951,     0.94045,     0.94049,     0.94127,     0.94205,     0.94283,     0.94298,     0.94294,     0.94289,     0.94283,     0.94276,     0.94269,     0.94256,     0.94249,     0.94243,     0.94238,     0.94215,     0.94209,       0.942,     0.94299,     0.94399,     0.94458,\n",
       "            0.94449,     0.94434,     0.94421,     0.94412,     0.94402,     0.94389,      0.9437,     0.94361,      0.9436,     0.94359,     0.94357,     0.94356,     0.94355,     0.94354,     0.94352,     0.94351,      0.9435,     0.94348,     0.94347,     0.94346,     0.94339,     0.94325,     0.94308,\n",
       "            0.94301,     0.94293,     0.94277,     0.94309,     0.94403,     0.94497,     0.94742,     0.94828,     0.94821,     0.94816,     0.94813,     0.94811,     0.94808,     0.94806,     0.94803,     0.94784,     0.94773,     0.94819,     0.94893,     0.94967,     0.95041,      0.9506,     0.95057,\n",
       "            0.95055,     0.95052,      0.9505,     0.95048,     0.95042,     0.95254,     0.95297,     0.95283,     0.95277,     0.95272,     0.95263,     0.95309,     0.95356,     0.95403,     0.95449,     0.95496,     0.95543,      0.9555,     0.95542,     0.95537,     0.95531,     0.95526,     0.95516,\n",
       "            0.95501,     0.95577,     0.95671,     0.95765,     0.95791,     0.95786,      0.9578,     0.95774,     0.95768,     0.95761,     0.95754,     0.95747,     0.95741,     0.95723,     0.95718,     0.95714,     0.95707,     0.96332,     0.96326,      0.9634,     0.96579,      0.9663,     0.96625,\n",
       "            0.96621,     0.96619,     0.96617,     0.96614,     0.96612,      0.9661,     0.96593,     0.96577,     0.96553,     0.96537,     0.96534,     0.96531,     0.96528,     0.96507,     0.96501,     0.96496,     0.96491,     0.96472,     0.96464,     0.96458,     0.96452,     0.96445,     0.96439,\n",
       "            0.96432,     0.96424,     0.96416,     0.96412,     0.96409,     0.96405,       0.964,     0.96394,     0.96528,     0.96734,     0.96724,     0.96715,     0.96708,     0.96696,     0.96684,     0.96677,     0.96673,     0.96668,     0.96657,     0.96632,     0.96626,     0.96622,     0.96618,\n",
       "            0.96613,     0.96604,     0.96672,     0.96901,     0.96951,     0.96923,     0.96917,     0.96912,     0.97291,     0.97418,     0.97546,     0.97665,     0.97664,     0.97663,     0.97661,      0.9766,     0.97659,     0.97657,     0.97654,     0.97649,     0.97636,     0.97634,     0.97632,\n",
       "             0.9763,     0.97623,     0.97683,     0.97788,     0.97893,     0.97998,     0.97999,     0.97995,     0.97982,     0.98005,     0.98256,     0.98358,     0.98347,      0.9834,     0.98339,     0.98338,     0.98338,     0.98337,     0.98336,     0.98335,     0.98334,     0.98334,     0.98332,\n",
       "            0.98329,     0.98323,     0.98317,     0.98315,     0.98311,     0.98305,     0.98302,       0.983,     0.98298,     0.98295,      0.9829,     0.98287,     0.98284,     0.98279,     0.98273,     0.98267,     0.98261,     0.98252,     0.98232,     0.98227,     0.98224,     0.98219,     0.98214,\n",
       "            0.98201,     0.98316,     0.98588,     0.98635,     0.98634,     0.98632,     0.98631,     0.99074,     0.99072,     0.99071,     0.99067,      0.9906,     0.99057,     0.99053,      0.9905,     0.99038,     0.99033,     0.99028,     0.99025,     0.99023,     0.99021,     0.99018,     0.99013,\n",
       "            0.99011,     0.99003,     0.98997,     0.98988,     0.98985,     0.98983,     0.98982,      0.9898,     0.98969,     0.98968,     0.98967,     0.98966,     0.98965,     0.98964,     0.98962,     0.98951,     0.98947,     0.98945,     0.98943,      0.9894,     0.98932,     0.98928,     0.98926,\n",
       "            0.98918,     0.98912,     0.98909,     0.98906,     0.98903,     0.98899,     0.98888,     0.98883,      0.9888,     0.98877,     0.98875,     0.98872,      0.9887,      0.9886,     0.98849,     0.98841,     0.98836,     0.98833,     0.98826,     0.98892,     0.99039,     0.99186,     0.99333,\n",
       "            0.99401,     0.99398,     0.99395,     0.99389,     0.99374,     0.99366,     0.99364,     0.99361,     0.99351,     0.99347,     0.99338,     0.99335,     0.99332,     0.99329,     0.99321,     0.99318,     0.99316,     0.99315,     0.99313,     0.99311,     0.99307,     0.99878,           1,\n",
       "                  1,           1,           1,           1,           1,           1,           1,           1,           1,           1,           1,           1,           1,           1,           1,           1,           1,           1,           1,           1,           1,           1,           1,\n",
       "                  1,           1,           1,           1,           1,           1,           1,           1,           1,           1,           1,           1,           1,           1,           1,           1,           1,           1,           1,           1,           1,           1,           1,\n",
       "                  1,           1,           1,           1,           1,           1,           1,           1,           1,           1,           1,           1,           1,           1,           1,           1,           1,           1,           1,           1,           1,           1,           1,\n",
       "                  1,           1,           1,           1,           1,           1,           1,           1,           1,           1,           1,           1,           1,           1,           1,           1,           1,           1,           1,           1,           1,           1,           1,\n",
       "                  1,           1,           1,           1,           1,           1,           1,           1,           1,           1,           1,           1,           1,           1,           1,           1,           1,           1,           1,           1,           1,           1,           1,\n",
       "                  1,           1,           1,           1,           1,           1,           1,           1,           1,           1,           1,           1,           1,           1,           1,           1,           1,           1,           1,           1,           1,           1,           1,\n",
       "                  1,           1,           1,           1,           1,           1,           1,           1,           1,           1,           1,           1,           1,           1,           1,           1,           1,           1,           1,           1,           1,           1,           1,\n",
       "                  1,           1,           1,           1,           1,           1,           1,           1,           1,           1,           1,           1,           1,           1,           1,           1,           1,           1,           1,           1,           1,           1,           1,\n",
       "                  1,           1,           1,           1,           1,           1,           1,           1,           1,           1,           1]]), 'Confidence', 'Precision'], [array([          0,    0.001001,    0.002002,    0.003003,    0.004004,    0.005005,    0.006006,    0.007007,    0.008008,    0.009009,     0.01001,    0.011011,    0.012012,    0.013013,    0.014014,    0.015015,    0.016016,    0.017017,    0.018018,    0.019019,     0.02002,    0.021021,    0.022022,    0.023023,\n",
       "          0.024024,    0.025025,    0.026026,    0.027027,    0.028028,    0.029029,     0.03003,    0.031031,    0.032032,    0.033033,    0.034034,    0.035035,    0.036036,    0.037037,    0.038038,    0.039039,     0.04004,    0.041041,    0.042042,    0.043043,    0.044044,    0.045045,    0.046046,    0.047047,\n",
       "          0.048048,    0.049049,     0.05005,    0.051051,    0.052052,    0.053053,    0.054054,    0.055055,    0.056056,    0.057057,    0.058058,    0.059059,     0.06006,    0.061061,    0.062062,    0.063063,    0.064064,    0.065065,    0.066066,    0.067067,    0.068068,    0.069069,     0.07007,    0.071071,\n",
       "          0.072072,    0.073073,    0.074074,    0.075075,    0.076076,    0.077077,    0.078078,    0.079079,     0.08008,    0.081081,    0.082082,    0.083083,    0.084084,    0.085085,    0.086086,    0.087087,    0.088088,    0.089089,     0.09009,    0.091091,    0.092092,    0.093093,    0.094094,    0.095095,\n",
       "          0.096096,    0.097097,    0.098098,    0.099099,      0.1001,      0.1011,      0.1021,      0.1031,      0.1041,     0.10511,     0.10611,     0.10711,     0.10811,     0.10911,     0.11011,     0.11111,     0.11211,     0.11311,     0.11411,     0.11512,     0.11612,     0.11712,     0.11812,     0.11912,\n",
       "           0.12012,     0.12112,     0.12212,     0.12312,     0.12412,     0.12513,     0.12613,     0.12713,     0.12813,     0.12913,     0.13013,     0.13113,     0.13213,     0.13313,     0.13413,     0.13514,     0.13614,     0.13714,     0.13814,     0.13914,     0.14014,     0.14114,     0.14214,     0.14314,\n",
       "           0.14414,     0.14515,     0.14615,     0.14715,     0.14815,     0.14915,     0.15015,     0.15115,     0.15215,     0.15315,     0.15415,     0.15516,     0.15616,     0.15716,     0.15816,     0.15916,     0.16016,     0.16116,     0.16216,     0.16316,     0.16416,     0.16517,     0.16617,     0.16717,\n",
       "           0.16817,     0.16917,     0.17017,     0.17117,     0.17217,     0.17317,     0.17417,     0.17518,     0.17618,     0.17718,     0.17818,     0.17918,     0.18018,     0.18118,     0.18218,     0.18318,     0.18418,     0.18519,     0.18619,     0.18719,     0.18819,     0.18919,     0.19019,     0.19119,\n",
       "           0.19219,     0.19319,     0.19419,      0.1952,      0.1962,      0.1972,      0.1982,      0.1992,      0.2002,      0.2012,      0.2022,      0.2032,      0.2042,     0.20521,     0.20621,     0.20721,     0.20821,     0.20921,     0.21021,     0.21121,     0.21221,     0.21321,     0.21421,     0.21522,\n",
       "           0.21622,     0.21722,     0.21822,     0.21922,     0.22022,     0.22122,     0.22222,     0.22322,     0.22422,     0.22523,     0.22623,     0.22723,     0.22823,     0.22923,     0.23023,     0.23123,     0.23223,     0.23323,     0.23423,     0.23524,     0.23624,     0.23724,     0.23824,     0.23924,\n",
       "           0.24024,     0.24124,     0.24224,     0.24324,     0.24424,     0.24525,     0.24625,     0.24725,     0.24825,     0.24925,     0.25025,     0.25125,     0.25225,     0.25325,     0.25425,     0.25526,     0.25626,     0.25726,     0.25826,     0.25926,     0.26026,     0.26126,     0.26226,     0.26326,\n",
       "           0.26426,     0.26527,     0.26627,     0.26727,     0.26827,     0.26927,     0.27027,     0.27127,     0.27227,     0.27327,     0.27427,     0.27528,     0.27628,     0.27728,     0.27828,     0.27928,     0.28028,     0.28128,     0.28228,     0.28328,     0.28428,     0.28529,     0.28629,     0.28729,\n",
       "           0.28829,     0.28929,     0.29029,     0.29129,     0.29229,     0.29329,     0.29429,      0.2953,      0.2963,      0.2973,      0.2983,      0.2993,      0.3003,      0.3013,      0.3023,      0.3033,      0.3043,     0.30531,     0.30631,     0.30731,     0.30831,     0.30931,     0.31031,     0.31131,\n",
       "           0.31231,     0.31331,     0.31431,     0.31532,     0.31632,     0.31732,     0.31832,     0.31932,     0.32032,     0.32132,     0.32232,     0.32332,     0.32432,     0.32533,     0.32633,     0.32733,     0.32833,     0.32933,     0.33033,     0.33133,     0.33233,     0.33333,     0.33433,     0.33534,\n",
       "           0.33634,     0.33734,     0.33834,     0.33934,     0.34034,     0.34134,     0.34234,     0.34334,     0.34434,     0.34535,     0.34635,     0.34735,     0.34835,     0.34935,     0.35035,     0.35135,     0.35235,     0.35335,     0.35435,     0.35536,     0.35636,     0.35736,     0.35836,     0.35936,\n",
       "           0.36036,     0.36136,     0.36236,     0.36336,     0.36436,     0.36537,     0.36637,     0.36737,     0.36837,     0.36937,     0.37037,     0.37137,     0.37237,     0.37337,     0.37437,     0.37538,     0.37638,     0.37738,     0.37838,     0.37938,     0.38038,     0.38138,     0.38238,     0.38338,\n",
       "           0.38438,     0.38539,     0.38639,     0.38739,     0.38839,     0.38939,     0.39039,     0.39139,     0.39239,     0.39339,     0.39439,      0.3954,      0.3964,      0.3974,      0.3984,      0.3994,      0.4004,      0.4014,      0.4024,      0.4034,      0.4044,     0.40541,     0.40641,     0.40741,\n",
       "           0.40841,     0.40941,     0.41041,     0.41141,     0.41241,     0.41341,     0.41441,     0.41542,     0.41642,     0.41742,     0.41842,     0.41942,     0.42042,     0.42142,     0.42242,     0.42342,     0.42442,     0.42543,     0.42643,     0.42743,     0.42843,     0.42943,     0.43043,     0.43143,\n",
       "           0.43243,     0.43343,     0.43443,     0.43544,     0.43644,     0.43744,     0.43844,     0.43944,     0.44044,     0.44144,     0.44244,     0.44344,     0.44444,     0.44545,     0.44645,     0.44745,     0.44845,     0.44945,     0.45045,     0.45145,     0.45245,     0.45345,     0.45445,     0.45546,\n",
       "           0.45646,     0.45746,     0.45846,     0.45946,     0.46046,     0.46146,     0.46246,     0.46346,     0.46446,     0.46547,     0.46647,     0.46747,     0.46847,     0.46947,     0.47047,     0.47147,     0.47247,     0.47347,     0.47447,     0.47548,     0.47648,     0.47748,     0.47848,     0.47948,\n",
       "           0.48048,     0.48148,     0.48248,     0.48348,     0.48448,     0.48549,     0.48649,     0.48749,     0.48849,     0.48949,     0.49049,     0.49149,     0.49249,     0.49349,     0.49449,      0.4955,      0.4965,      0.4975,      0.4985,      0.4995,      0.5005,      0.5015,      0.5025,      0.5035,\n",
       "            0.5045,     0.50551,     0.50651,     0.50751,     0.50851,     0.50951,     0.51051,     0.51151,     0.51251,     0.51351,     0.51451,     0.51552,     0.51652,     0.51752,     0.51852,     0.51952,     0.52052,     0.52152,     0.52252,     0.52352,     0.52452,     0.52553,     0.52653,     0.52753,\n",
       "           0.52853,     0.52953,     0.53053,     0.53153,     0.53253,     0.53353,     0.53453,     0.53554,     0.53654,     0.53754,     0.53854,     0.53954,     0.54054,     0.54154,     0.54254,     0.54354,     0.54454,     0.54555,     0.54655,     0.54755,     0.54855,     0.54955,     0.55055,     0.55155,\n",
       "           0.55255,     0.55355,     0.55455,     0.55556,     0.55656,     0.55756,     0.55856,     0.55956,     0.56056,     0.56156,     0.56256,     0.56356,     0.56456,     0.56557,     0.56657,     0.56757,     0.56857,     0.56957,     0.57057,     0.57157,     0.57257,     0.57357,     0.57457,     0.57558,\n",
       "           0.57658,     0.57758,     0.57858,     0.57958,     0.58058,     0.58158,     0.58258,     0.58358,     0.58458,     0.58559,     0.58659,     0.58759,     0.58859,     0.58959,     0.59059,     0.59159,     0.59259,     0.59359,     0.59459,      0.5956,      0.5966,      0.5976,      0.5986,      0.5996,\n",
       "            0.6006,      0.6016,      0.6026,      0.6036,      0.6046,     0.60561,     0.60661,     0.60761,     0.60861,     0.60961,     0.61061,     0.61161,     0.61261,     0.61361,     0.61461,     0.61562,     0.61662,     0.61762,     0.61862,     0.61962,     0.62062,     0.62162,     0.62262,     0.62362,\n",
       "           0.62462,     0.62563,     0.62663,     0.62763,     0.62863,     0.62963,     0.63063,     0.63163,     0.63263,     0.63363,     0.63463,     0.63564,     0.63664,     0.63764,     0.63864,     0.63964,     0.64064,     0.64164,     0.64264,     0.64364,     0.64464,     0.64565,     0.64665,     0.64765,\n",
       "           0.64865,     0.64965,     0.65065,     0.65165,     0.65265,     0.65365,     0.65465,     0.65566,     0.65666,     0.65766,     0.65866,     0.65966,     0.66066,     0.66166,     0.66266,     0.66366,     0.66466,     0.66567,     0.66667,     0.66767,     0.66867,     0.66967,     0.67067,     0.67167,\n",
       "           0.67267,     0.67367,     0.67467,     0.67568,     0.67668,     0.67768,     0.67868,     0.67968,     0.68068,     0.68168,     0.68268,     0.68368,     0.68468,     0.68569,     0.68669,     0.68769,     0.68869,     0.68969,     0.69069,     0.69169,     0.69269,     0.69369,     0.69469,      0.6957,\n",
       "            0.6967,      0.6977,      0.6987,      0.6997,      0.7007,      0.7017,      0.7027,      0.7037,      0.7047,     0.70571,     0.70671,     0.70771,     0.70871,     0.70971,     0.71071,     0.71171,     0.71271,     0.71371,     0.71471,     0.71572,     0.71672,     0.71772,     0.71872,     0.71972,\n",
       "           0.72072,     0.72172,     0.72272,     0.72372,     0.72472,     0.72573,     0.72673,     0.72773,     0.72873,     0.72973,     0.73073,     0.73173,     0.73273,     0.73373,     0.73473,     0.73574,     0.73674,     0.73774,     0.73874,     0.73974,     0.74074,     0.74174,     0.74274,     0.74374,\n",
       "           0.74474,     0.74575,     0.74675,     0.74775,     0.74875,     0.74975,     0.75075,     0.75175,     0.75275,     0.75375,     0.75475,     0.75576,     0.75676,     0.75776,     0.75876,     0.75976,     0.76076,     0.76176,     0.76276,     0.76376,     0.76476,     0.76577,     0.76677,     0.76777,\n",
       "           0.76877,     0.76977,     0.77077,     0.77177,     0.77277,     0.77377,     0.77477,     0.77578,     0.77678,     0.77778,     0.77878,     0.77978,     0.78078,     0.78178,     0.78278,     0.78378,     0.78478,     0.78579,     0.78679,     0.78779,     0.78879,     0.78979,     0.79079,     0.79179,\n",
       "           0.79279,     0.79379,     0.79479,      0.7958,      0.7968,      0.7978,      0.7988,      0.7998,      0.8008,      0.8018,      0.8028,      0.8038,      0.8048,     0.80581,     0.80681,     0.80781,     0.80881,     0.80981,     0.81081,     0.81181,     0.81281,     0.81381,     0.81481,     0.81582,\n",
       "           0.81682,     0.81782,     0.81882,     0.81982,     0.82082,     0.82182,     0.82282,     0.82382,     0.82482,     0.82583,     0.82683,     0.82783,     0.82883,     0.82983,     0.83083,     0.83183,     0.83283,     0.83383,     0.83483,     0.83584,     0.83684,     0.83784,     0.83884,     0.83984,\n",
       "           0.84084,     0.84184,     0.84284,     0.84384,     0.84484,     0.84585,     0.84685,     0.84785,     0.84885,     0.84985,     0.85085,     0.85185,     0.85285,     0.85385,     0.85485,     0.85586,     0.85686,     0.85786,     0.85886,     0.85986,     0.86086,     0.86186,     0.86286,     0.86386,\n",
       "           0.86486,     0.86587,     0.86687,     0.86787,     0.86887,     0.86987,     0.87087,     0.87187,     0.87287,     0.87387,     0.87487,     0.87588,     0.87688,     0.87788,     0.87888,     0.87988,     0.88088,     0.88188,     0.88288,     0.88388,     0.88488,     0.88589,     0.88689,     0.88789,\n",
       "           0.88889,     0.88989,     0.89089,     0.89189,     0.89289,     0.89389,     0.89489,      0.8959,      0.8969,      0.8979,      0.8989,      0.8999,      0.9009,      0.9019,      0.9029,      0.9039,      0.9049,     0.90591,     0.90691,     0.90791,     0.90891,     0.90991,     0.91091,     0.91191,\n",
       "           0.91291,     0.91391,     0.91491,     0.91592,     0.91692,     0.91792,     0.91892,     0.91992,     0.92092,     0.92192,     0.92292,     0.92392,     0.92492,     0.92593,     0.92693,     0.92793,     0.92893,     0.92993,     0.93093,     0.93193,     0.93293,     0.93393,     0.93493,     0.93594,\n",
       "           0.93694,     0.93794,     0.93894,     0.93994,     0.94094,     0.94194,     0.94294,     0.94394,     0.94494,     0.94595,     0.94695,     0.94795,     0.94895,     0.94995,     0.95095,     0.95195,     0.95295,     0.95395,     0.95495,     0.95596,     0.95696,     0.95796,     0.95896,     0.95996,\n",
       "           0.96096,     0.96196,     0.96296,     0.96396,     0.96496,     0.96597,     0.96697,     0.96797,     0.96897,     0.96997,     0.97097,     0.97197,     0.97297,     0.97397,     0.97497,     0.97598,     0.97698,     0.97798,     0.97898,     0.97998,     0.98098,     0.98198,     0.98298,     0.98398,\n",
       "           0.98498,     0.98599,     0.98699,     0.98799,     0.98899,     0.98999,     0.99099,     0.99199,     0.99299,     0.99399,     0.99499,       0.996,       0.997,       0.998,       0.999,           1]), array([[          1,           1,           1,           1,           1,           1,           1,           1,           1,           1,           1,           1,           1,           1,           1,           1,           1,           1,           1,           1,           1,           1,           1,\n",
       "                  1,           1,           1,           1,           1,           1,           1,           1,      0.9975,      0.9975,      0.9975,       0.995,       0.995,       0.995,       0.995,       0.995,       0.995,       0.995,       0.995,      0.9925,      0.9925,      0.9925,      0.9925,\n",
       "             0.9925,      0.9925,      0.9925,      0.9925,        0.99,        0.99,        0.99,        0.99,        0.99,        0.99,        0.99,        0.99,        0.99,        0.99,        0.99,        0.99,        0.99,        0.99,        0.99,        0.99,        0.99,        0.99,        0.99,\n",
       "               0.99,        0.99,     0.98932,     0.98863,     0.98794,      0.9875,      0.9875,      0.9875,      0.9875,      0.9875,      0.9875,      0.9875,      0.9875,      0.9875,      0.9875,      0.9875,     0.98729,     0.98504,     0.98406,     0.98311,      0.9825,     0.98243,     0.98176,\n",
       "            0.98109,     0.98042,        0.98,        0.98,        0.98,        0.98,      0.9775,     0.97721,      0.9725,      0.9725,      0.9725,      0.9712,        0.97,        0.97,        0.97,        0.97,        0.97,        0.97,        0.97,        0.97,        0.97,        0.97,        0.97,\n",
       "               0.97,        0.97,        0.97,     0.96846,       0.965,       0.965,       0.965,       0.965,       0.965,     0.96133,        0.96,        0.96,        0.96,        0.96,        0.96,        0.96,        0.96,     0.95663,     0.95472,     0.95377,     0.95282,     0.95213,     0.95158,\n",
       "            0.95102,     0.95046,        0.95,        0.95,        0.95,        0.95,        0.95,     0.94968,     0.94936,     0.94903,      0.9487,     0.94837,     0.94805,     0.94772,      0.9475,      0.9475,     0.94746,     0.94705,     0.94665,     0.94624,     0.94583,     0.94543,     0.94502,\n",
       "              0.945,       0.945,       0.945,       0.945,       0.945,       0.945,       0.945,       0.945,       0.945,       0.945,       0.945,       0.945,       0.945,       0.945,     0.94321,      0.9425,      0.9425,      0.9425,      0.9425,      0.9425,      0.9425,      0.9425,      0.9425,\n",
       "             0.9425,      0.9425,      0.9425,      0.9425,     0.94231,     0.94143,     0.94056,        0.94,        0.94,        0.94,        0.94,        0.94,        0.94,        0.94,        0.94,        0.94,        0.94,        0.94,      0.9398,     0.93946,     0.93911,     0.93876,     0.93842,\n",
       "            0.93807,     0.93773,      0.9375,      0.9375,      0.9375,     0.93576,     0.93442,     0.93348,     0.93253,     0.93202,     0.93152,     0.93102,     0.93051,     0.93001,     0.92859,     0.92742,     0.92712,     0.92681,      0.9265,     0.92619,     0.92589,     0.92558,     0.92527,\n",
       "            0.92488,     0.92384,     0.92279,      0.9225,      0.9225,     0.92212,     0.92106,        0.92,        0.92,        0.92,        0.92,        0.92,        0.92,        0.92,        0.92,        0.92,        0.92,        0.92,        0.92,        0.92,        0.92,        0.92,        0.92,\n",
       "               0.92,      0.9175,     0.91723,     0.91674,     0.91625,     0.91577,     0.91528,       0.915,       0.915,       0.915,       0.915,       0.915,       0.915,       0.915,       0.915,     0.91485,     0.91333,      0.9125,     0.91205,     0.91157,      0.9111,     0.91063,     0.91016,\n",
       "            0.90951,     0.90878,     0.90804,      0.9075,      0.9075,      0.9075,      0.9075,      0.9075,      0.9075,      0.9075,      0.9075,      0.9075,      0.9075,      0.9075,      0.9075,      0.9075,     0.90501,     0.90206,     0.90161,     0.90116,     0.90071,     0.90026,         0.9,\n",
       "            0.89945,     0.89876,     0.89808,     0.89675,       0.895,       0.895,       0.895,       0.895,       0.895,       0.895,       0.895,       0.895,       0.895,       0.895,       0.895,       0.895,       0.895,       0.895,       0.895,       0.895,       0.895,       0.895,       0.895,\n",
       "              0.895,       0.895,       0.895,       0.895,      0.8941,     0.89258,     0.89216,     0.89179,     0.89143,     0.89107,      0.8907,     0.89034,        0.89,        0.89,        0.89,     0.88961,     0.88875,      0.8879,     0.88652,     0.88496,     0.88472,     0.88448,     0.88424,\n",
       "            0.88401,     0.88377,     0.88353,     0.88329,     0.88305,     0.88281,     0.88257,      0.8825,      0.8825,      0.8825,      0.8825,      0.8825,      0.8825,      0.8825,      0.8825,      0.8825,      0.8825,      0.8825,      0.8825,      0.8825,      0.8825,      0.8825,      0.8818,\n",
       "            0.88003,        0.88,        0.88,        0.88,        0.88,        0.88,        0.88,     0.87701,     0.87642,     0.87583,     0.87524,     0.87226,     0.87106,      0.8699,     0.86896,     0.86802,      0.8675,      0.8675,      0.8675,      0.8675,      0.8675,      0.8675,      0.8675,\n",
       "             0.8675,     0.86474,     0.86411,     0.86349,     0.86286,     0.86183,     0.86025,     0.85952,     0.85895,     0.85838,      0.8578,     0.85652,     0.85303,      0.8525,      0.8525,      0.8525,      0.8525,      0.8525,      0.8525,      0.8525,      0.8525,      0.8525,      0.8525,\n",
       "             0.8525,      0.8525,      0.8525,      0.8525,     0.85233,     0.85158,     0.85082,     0.85006,     0.84983,     0.84964,     0.84945,     0.84927,     0.84908,     0.84889,     0.84871,     0.84852,     0.84833,     0.84815,     0.84796,     0.84777,     0.84759,      0.8475,      0.8475,\n",
       "            0.84743,     0.84669,     0.84595,     0.84521,     0.84401,     0.84264,      0.8425,      0.8425,      0.8425,      0.8425,      0.8425,      0.8425,      0.8425,      0.8425,      0.8425,      0.8425,      0.8425,      0.8425,      0.8425,      0.8425,     0.84201,     0.84084,     0.83944,\n",
       "            0.83747,       0.835,       0.835,       0.835,       0.835,       0.835,       0.835,       0.835,       0.835,     0.83461,     0.83419,     0.83377,     0.83334,     0.83292,      0.8325,     0.83222,     0.83194,     0.83167,     0.83139,     0.83112,     0.83084,     0.83057,     0.83029,\n",
       "            0.83001,        0.83,     0.82914,      0.8275,      0.8275,      0.8275,      0.8275,     0.82694,      0.8262,     0.82546,     0.82459,     0.82351,     0.82238,      0.8205,     0.81939,     0.81855,     0.81771,     0.81436,     0.81336,        0.81,        0.81,        0.81,     0.80952,\n",
       "            0.80824,     0.80591,     0.80391,     0.80249,     0.80105,      0.7991,     0.79613,     0.79489,      0.7947,     0.79451,     0.79432,     0.79413,     0.79393,     0.79374,     0.79355,     0.79336,     0.79317,     0.79298,     0.79279,      0.7926,     0.79159,     0.78947,     0.78696,\n",
       "            0.78593,     0.78477,     0.78249,        0.78,        0.78,        0.78,        0.78,     0.77917,     0.77809,     0.77732,     0.77692,     0.77652,     0.77612,     0.77571,     0.77531,     0.77227,     0.77057,        0.77,        0.77,        0.77,        0.77,     0.76971,      0.7693,\n",
       "            0.76889,     0.76849,     0.76808,     0.76768,      0.7625,      0.7625,     0.75986,     0.75742,     0.75651,      0.7556,      0.7525,      0.7525,      0.7525,      0.7525,      0.7525,      0.7525,      0.7525,      0.7515,     0.75012,     0.74917,     0.74826,     0.74723,     0.74563,\n",
       "            0.74303,      0.7425,      0.7425,      0.7425,     0.73968,     0.73869,      0.7377,     0.73658,     0.73543,     0.73419,     0.73291,     0.73175,     0.73066,     0.72732,     0.72651,      0.7257,     0.72455,     0.72226,     0.72109,        0.72,        0.72,      0.7169,     0.71568,\n",
       "             0.7148,     0.71434,     0.71388,     0.71343,     0.71297,     0.71252,     0.70878,     0.70532,     0.70017,     0.69701,     0.69634,     0.69568,     0.69501,     0.69073,     0.68941,     0.68846,     0.68751,     0.68366,     0.68204,     0.68085,     0.67962,     0.67832,     0.67699,\n",
       "            0.67564,     0.67418,     0.67262,     0.67185,     0.67114,     0.67043,     0.66952,     0.66829,      0.6675,     0.66643,     0.66426,     0.66244,     0.66107,     0.65848,     0.65608,     0.65467,     0.65372,     0.65277,     0.65046,      0.6455,     0.64432,      0.6436,     0.64287,\n",
       "            0.64172,     0.64012,      0.6375,      0.6375,     0.63598,      0.6299,     0.62876,     0.62762,      0.6275,      0.6275,      0.6275,     0.62748,     0.62711,     0.62674,     0.62636,     0.62599,     0.62562,     0.62525,     0.62451,     0.62296,      0.6196,       0.619,     0.61841,\n",
       "            0.61781,     0.61612,       0.615,       0.615,       0.615,       0.615,      0.6123,     0.61092,      0.6068,      0.6025,      0.6025,     0.59904,     0.59492,     0.59238,      0.5921,     0.59182,     0.59154,     0.59126,     0.59098,      0.5907,     0.59042,     0.59014,     0.58944,\n",
       "            0.58833,     0.58631,     0.58431,     0.58334,     0.58212,      0.5798,     0.57909,     0.57837,     0.57766,     0.57638,     0.57496,     0.57387,     0.57278,     0.57094,     0.56892,     0.56696,     0.56497,     0.56201,     0.55577,       0.554,     0.55297,     0.55162,        0.55,\n",
       "            0.54579,      0.5425,      0.5425,       0.542,     0.54139,     0.54079,     0.54018,     0.53491,     0.53404,     0.53316,     0.53114,     0.52677,     0.52498,     0.52306,     0.52131,     0.51463,     0.51199,     0.50966,       0.508,     0.50682,     0.50586,     0.50426,     0.50175,\n",
       "            0.50072,     0.49672,     0.49352,     0.48923,     0.48744,     0.48674,     0.48605,     0.48535,     0.47994,     0.47951,     0.47909,     0.47866,     0.47824,     0.47782,     0.47656,     0.47148,     0.46975,     0.46895,     0.46814,     0.46678,     0.46307,     0.46159,     0.46052,\n",
       "            0.45723,     0.45469,     0.45326,     0.45189,     0.45061,     0.44904,     0.44476,     0.44259,     0.44136,     0.44016,     0.43926,      0.4384,     0.43753,     0.43354,     0.42956,     0.42631,     0.42459,      0.4235,      0.4209,      0.4175,      0.4175,      0.4175,      0.4175,\n",
       "            0.41481,     0.41272,     0.41092,     0.40638,     0.39694,     0.39173,     0.39034,      0.3887,     0.38247,     0.38027,     0.37506,     0.37347,     0.37191,     0.37033,     0.36582,     0.36413,     0.36324,     0.36235,     0.36144,     0.36053,      0.3585,      0.3575,     0.35503,\n",
       "            0.34984,      0.3489,     0.34796,     0.34482,     0.34398,     0.34315,     0.34204,     0.33998,     0.33942,     0.33886,      0.3383,     0.33775,     0.33576,     0.33165,     0.33039,     0.32522,     0.32318,     0.32169,     0.32039,     0.31631,     0.31418,      0.3131,     0.31222,\n",
       "            0.31159,     0.31097,     0.31034,     0.30873,     0.30468,     0.30181,     0.30057,     0.29948,     0.29852,     0.29756,     0.29543,     0.28687,     0.28403,      0.2825,     0.28103,     0.27948,      0.2777,     0.27473,     0.27346,     0.26923,     0.26637,     0.26473,     0.26396,\n",
       "            0.26319,     0.26233,     0.26054,     0.25848,     0.25651,     0.25417,     0.24965,     0.24722,     0.24473,     0.24323,     0.24193,     0.24082,     0.23934,     0.23712,      0.2357,     0.23411,     0.23246,     0.23192,     0.23137,     0.23083,     0.23028,      0.2296,     0.22875,\n",
       "            0.22791,     0.22604,     0.21963,     0.21834,     0.21678,     0.21238,      0.2116,     0.21082,     0.21004,     0.20449,     0.20321,      0.2016,     0.19873,     0.19577,     0.19082,     0.18813,     0.18681,     0.18586,      0.1848,     0.18236,     0.18004,     0.17611,     0.17423,\n",
       "            0.17233,     0.17137,     0.17042,      0.1668,     0.16548,     0.16009,     0.15428,     0.14974,     0.14914,     0.14855,     0.14796,     0.14714,     0.14555,     0.14433,     0.14331,     0.14197,     0.13983,     0.13901,     0.13819,       0.136,     0.13202,     0.13011,     0.12745,\n",
       "            0.12227,     0.12057,     0.11545,     0.11166,     0.10801,     0.10599,     0.10196,     0.10073,    0.099233,    0.097388,    0.096125,    0.094075,    0.090414,    0.086704,    0.082171,     0.07958,    0.078106,    0.076363,    0.072177,    0.067424,    0.066432,    0.065441,    0.062139,\n",
       "           0.059915,    0.058861,    0.057806,    0.056641,     0.05543,    0.052833,    0.047143,    0.045954,    0.043745,    0.039552,    0.037016,    0.034907,    0.034467,    0.034027,    0.033587,    0.033148,    0.032708,    0.029433,    0.027269,    0.026697,    0.026125,    0.025553,    0.024803,\n",
       "           0.021796,    0.020642,    0.016111,     0.01478,    0.014454,    0.014129,    0.013803,    0.013478,    0.013152,    0.012826,    0.012501,   0.0085295,   0.0069808,   0.0060069,    0.005033,           0,           0,           0,           0,           0,           0,           0,           0,\n",
       "                  0,           0,           0,           0,           0,           0,           0,           0,           0,           0,           0]]), 'Confidence', 'Recall']]\n",
       "fitness: np.float64(0.8794073424602529)\n",
       "keys: ['metrics/precision(B)', 'metrics/recall(B)', 'metrics/mAP50(B)', 'metrics/mAP50-95(B)']\n",
       "maps: array([    0.87023])\n",
       "names: {0: 'gland'}\n",
       "plot: True\n",
       "results_dict: {'metrics/precision(B)': np.float64(0.8708453278679864), 'metrics/recall(B)': np.float64(0.9271157550226792), 'metrics/mAP50(B)': np.float64(0.9619603920787005), 'metrics/mAP50-95(B)': np.float64(0.8702347813915365), 'fitness': np.float64(0.8794073424602529)}\n",
       "save_dir: WindowsPath('runs/train/Glands_Finder')\n",
       "speed: {'preprocess': 0.6018263153045585, 'inference': 38.17256315807371, 'loss': 5.2628916149076664e-05, 'postprocess': 15.013668422685251}\n",
       "task: 'detect'"
      ]
     },
     "execution_count": 13,
     "metadata": {},
     "output_type": "execute_result"
    }
   ],
   "source": [
    "model = YOLO(\"yolo11n.pt\")\n",
    "model.train(\n",
    "    data='../preprocessedData/LearnSet145/data.yaml',\n",
    "    epochs=50,\n",
    "    imgsz=640,\n",
    "    project=\"runs/train\",\n",
    "    name=\"Glands_Finder\",\n",
    "    exist_ok=True\n",
    ")"
   ]
  },
  {
   "cell_type": "code",
   "execution_count": 15,
   "id": "80b0cf86-9d02-4818-93b5-5c1dbe9e93bc",
   "metadata": {
    "scrolled": true
   },
   "outputs": [
    {
     "name": "stdout",
     "output_type": "stream",
     "text": [
      "\n",
      "0: 640x640 79 glands, 115.9ms\n",
      "Speed: 4.3ms preprocess, 115.9ms inference, 1.1ms postprocess per image at shape (1, 3, 640, 640)\n"
     ]
    }
   ],
   "source": [
    "img = Image.open(\"../preprocessedData/patient0.tif\")\n",
    "\n",
    "\n",
    "results = model(img, conf=0.05)\n",
    "results[0].show()"
   ]
  },
  {
   "cell_type": "code",
   "execution_count": 13,
   "id": "2ee1cac0-8ad5-4d4c-8264-bfaa23ec615b",
   "metadata": {},
   "outputs": [],
   "source": [
    "results[0].show()"
   ]
  },
  {
   "cell_type": "code",
   "execution_count": 16,
   "id": "ec39be86-85dc-43ec-a9be-8209ca64d57d",
   "metadata": {},
   "outputs": [],
   "source": [
    "im_array = results[0].plot()  \n",
    "im = Image.fromarray(im_array)\n",
    "im.save(\"output.tif\", format=\"TIFF\")"
   ]
  },
  {
   "cell_type": "code",
   "execution_count": null,
   "id": "274d4dd2-4a5f-471e-8421-53541c6c700b",
   "metadata": {},
   "outputs": [],
   "source": []
  },
  {
   "cell_type": "code",
   "execution_count": null,
   "id": "3dac79dc-9fe8-4189-9a8b-662299e13901",
   "metadata": {},
   "outputs": [],
   "source": []
  },
  {
   "cell_type": "code",
   "execution_count": null,
   "id": "a548fb60-747e-4c41-9502-3eae175f49f5",
   "metadata": {},
   "outputs": [],
   "source": []
  },
  {
   "cell_type": "code",
   "execution_count": null,
   "id": "b2256138-49bf-476d-b907-69b31012e335",
   "metadata": {},
   "outputs": [],
   "source": []
  }
 ],
 "metadata": {
  "kernelspec": {
   "display_name": "Python 3 (ipykernel)",
   "language": "python",
   "name": "python3"
  },
  "language_info": {
   "codemirror_mode": {
    "name": "ipython",
    "version": 3
   },
   "file_extension": ".py",
   "mimetype": "text/x-python",
   "name": "python",
   "nbconvert_exporter": "python",
   "pygments_lexer": "ipython3",
   "version": "3.12.4"
  }
 },
 "nbformat": 4,
 "nbformat_minor": 5
}
