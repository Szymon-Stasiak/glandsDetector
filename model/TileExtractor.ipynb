{
 "cells": [
  {
   "cell_type": "markdown",
   "id": "d4f2aa56-d4c6-4fcc-9639-f01c414cdb33",
   "metadata": {},
   "source": "# Tile Extractor #"
  },
  {
   "metadata": {},
   "cell_type": "markdown",
   "source": "When processing large medical images, we focus only on the regions of interest—specifically, the areas where pathological objects are present. Each part of the pathological structure is then divided into smaller segments to allow the model to learn more effectively from them.",
   "id": "bba0df5f6cd20116"
  },
  {
   "cell_type": "code",
   "id": "eddf5d50-333f-4228-8a17-23e3d2c55fbf",
   "metadata": {
    "ExecuteTime": {
     "end_time": "2025-05-18T20:09:28.231728Z",
     "start_time": "2025-05-18T20:09:28.139771Z"
    }
   },
   "source": [
    "import os\n",
    "import numpy as np\n",
    "from PIL import Image\n",
    "import PIL\n",
    "PIL.Image.MAX_IMAGE_PIXELS = None"
   ],
   "outputs": [],
   "execution_count": 3
  },
  {
   "cell_type": "code",
   "id": "db30eb41-686e-4884-b653-c44b385b12dc",
   "metadata": {
    "ExecuteTime": {
     "end_time": "2025-05-18T20:09:29.010600Z",
     "start_time": "2025-05-18T20:09:29.004573Z"
    }
   },
   "source": [
    "def split_tiff_to_tiles(input_folder, output_dir, patch_size=2048, overlap=0.5):\n",
    "    if not os.path.exists(output_dir):\n",
    "        os.makedirs(output_dir)\n",
    "\n",
    "    for file_name in os.listdir(input_folder):\n",
    "        if file_name.endswith('.tiff'):\n",
    "            input_path = os.path.join(input_folder, file_name)\n",
    "            \n",
    "            image = Image.open(input_path)\n",
    "            image_array = np.array(image)\n",
    "\n",
    "            output_folder = os.path.join(output_dir, os.path.splitext(file_name)[0])\n",
    "            if not os.path.exists(output_folder):\n",
    "                os.makedirs(output_folder)\n",
    "\n",
    "            step = int(patch_size * (1 - overlap))\n",
    "\n",
    "            height, width = image_array.shape[:2]\n",
    "            for y in range(0, height - patch_size + 1, step):\n",
    "                for x in range(0, width - patch_size + 1, step):\n",
    "                    tile = image_array[y:y+patch_size, x:x+patch_size]\n",
    "\n",
    "                    if not np.any(tile):\n",
    "                        continue  \n",
    "\n",
    "                    total_pixels = patch_size * patch_size\n",
    "\n",
    "                    if tile.ndim == 3:\n",
    "                        white_pixels = np.sum(np.all(tile == [255, 255, 255], axis=-1))\n",
    "                        black_pixels = np.sum(np.all(tile == [0, 0, 0], axis=-1))\n",
    "                    else:  \n",
    "                        white_pixels = np.sum(tile == 255)\n",
    "                        black_pixels = np.sum(tile == 0)\n",
    "\n",
    "                    if (white_pixels + black_pixels) / total_pixels >= 0.5:\n",
    "                        continue  \n",
    "\n",
    "                    tile_image = Image.fromarray(tile)\n",
    "                    tile_output_path = os.path.join(output_folder, f'tile_{y}_{x}.tiff')\n",
    "                    tile_image.save(tile_output_path)\n",
    "\n",
    "            print(f\"Saves tiles to: {file_name}\")\n"
   ],
   "outputs": [],
   "execution_count": 4
  },
  {
   "cell_type": "code",
   "id": "7b7682a7-5d46-4898-b2e1-9fb91798051a",
   "metadata": {
    "ExecuteTime": {
     "end_time": "2025-05-18T20:15:27.834307Z",
     "start_time": "2025-05-18T20:13:09.020851Z"
    }
   },
   "source": [
    "split_tiff_to_tiles(\n",
    "    input_folder='../preprocessedData/tissue_regions/1M01',\n",
    "    output_dir='../preprocessedData/tiles/1M01',\n",
    "    patch_size=4096,  \n",
    "    overlap=0.5\n",
    ")"
   ],
   "outputs": [
    {
     "name": "stdout",
     "output_type": "stream",
     "text": [
      "Saves tiles to: tissue_region_0.tiff\n",
      "Saves tiles to: tissue_region_1.tiff\n",
      "Saves tiles to: tissue_region_2.tiff\n"
     ]
    }
   ],
   "execution_count": 7
  },
  {
   "cell_type": "code",
   "execution_count": null,
   "id": "e51df618-160e-4642-8645-cbc7b81b03d4",
   "metadata": {},
   "outputs": [],
   "source": []
  }
 ],
 "metadata": {
  "kernelspec": {
   "display_name": "Python 3 (ipykernel)",
   "language": "python",
   "name": "python3"
  },
  "language_info": {
   "codemirror_mode": {
    "name": "ipython",
    "version": 3
   },
   "file_extension": ".py",
   "mimetype": "text/x-python",
   "name": "python",
   "nbconvert_exporter": "python",
   "pygments_lexer": "ipython3",
   "version": "3.13.3"
  }
 },
 "nbformat": 4,
 "nbformat_minor": 5
}
