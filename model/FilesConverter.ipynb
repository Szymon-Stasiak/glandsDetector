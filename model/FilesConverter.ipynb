{
 "cells": [
  {
   "cell_type": "code",
   "execution_count": 3,
   "id": "db30eb41-686e-4884-b653-c44b385b12dc",
   "metadata": {},
   "outputs": [],
   "source": [
    "import os\n",
    "from openslide import OpenSlide\n",
    "from PIL import Image\n",
    "\n",
    "def split_mrxs_to_tiles(input_path, output_dir, patch_size=1024, overlap=128, level=0):\n",
    "    os.makedirs(output_dir, exist_ok=True)\n",
    "    slide = OpenSlide(input_path)\n",
    "    dims = slide.level_dimensions[level]\n",
    "    \n",
    "    for y in range(0, dims[1], patch_size - overlap):\n",
    "        for x in range(0, dims[0], patch_size - overlap):\n",
    "            width = min(patch_size, dims[0] - x)\n",
    "            height = min(patch_size, dims[1] - y)\n",
    "            \n",
    "            tile = slide.read_region(\n",
    "                location=(x, y),\n",
    "                level=level,\n",
    "                size=(width, height)\n",
    "            )\n",
    "            \n",
    "            # Sprawdź, czy fragment jest całkowicie przezroczysty\n",
    "            if tile.mode == 'RGBA':\n",
    "                alpha = tile.getchannel('A')\n",
    "                # Jeśli maksymalna wartość alfa wynosi 0, fragment jest przezroczysty\n",
    "                if alpha.getextrema()[1] == 0:\n",
    "                    continue  # Pomijamy ten fragment\n",
    "                tile = tile.convert('RGB')\n",
    "            \n",
    "            tile.save(\n",
    "                os.path.join(output_dir, f'tile_{x}_{y}.tif'),\n",
    "                compression=None,\n",
    "                tiffinfo={271: 'XYZ Scanner'}\n",
    "            )\n",
    "    \n",
    "    slide.close()"
   ]
  },
  {
   "cell_type": "code",
   "execution_count": 4,
   "id": "004ddcd9-b528-47c3-b986-26958258d7ab",
   "metadata": {},
   "outputs": [],
   "source": [
    "split_mrxs_to_tiles(\n",
    "    input_path='../data/Patomorfologia/1M01.mrxs',\n",
    "    output_dir='../temp/1M01',\n",
    "    patch_size=2048,  \n",
    "    overlap=256,      \n",
    "    level=0          \n",
    ")"
   ]
  },
  {
   "cell_type": "code",
   "execution_count": null,
   "id": "7b7682a7-5d46-4898-b2e1-9fb91798051a",
   "metadata": {},
   "outputs": [],
   "source": []
  },
  {
   "cell_type": "code",
   "execution_count": null,
   "id": "67563933-41ec-4ca2-8565-d30edb8ec15b",
   "metadata": {},
   "outputs": [],
   "source": []
  },
  {
   "cell_type": "code",
   "execution_count": null,
   "id": "53624bef-c6d1-44c9-89ee-482cfa82385f",
   "metadata": {},
   "outputs": [],
   "source": []
  },
  {
   "cell_type": "code",
   "execution_count": null,
   "id": "802f3920-b7db-4445-b636-c2490ed254e3",
   "metadata": {},
   "outputs": [],
   "source": []
  },
  {
   "cell_type": "code",
   "execution_count": null,
   "id": "3fbaaf8b-63b0-494b-82e4-982350e0299c",
   "metadata": {},
   "outputs": [],
   "source": []
  }
 ],
 "metadata": {
  "kernelspec": {
   "display_name": "Python 3 (ipykernel)",
   "language": "python",
   "name": "python3"
  },
  "language_info": {
   "codemirror_mode": {
    "name": "ipython",
    "version": 3
   },
   "file_extension": ".py",
   "mimetype": "text/x-python",
   "name": "python",
   "nbconvert_exporter": "python",
   "pygments_lexer": "ipython3",
   "version": "3.12.4"
  }
 },
 "nbformat": 4,
 "nbformat_minor": 5
}
